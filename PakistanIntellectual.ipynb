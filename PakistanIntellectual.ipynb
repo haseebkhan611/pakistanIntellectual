{
  "nbformat": 4,
  "nbformat_minor": 0,
  "metadata": {
    "colab": {
      "name": "PakistanIntellectual",
      "provenance": []
    },
    "kernelspec": {
      "name": "python3",
      "display_name": "Python 3"
    }
  },
  "cells": [
    {
      "cell_type": "code",
      "metadata": {
        "id": "Z7ADAUzhy6rg"
      },
      "source": [
        "import numpy as np\n",
        "import pandas as pd\n",
        "import matplotlib.pyplot as plt\n",
        "from google.colab import files\n",
        "import seaborn as sns"
      ],
      "execution_count": 1,
      "outputs": []
    },
    {
      "cell_type": "code",
      "metadata": {
        "id": "E_shMV6yzEb8",
        "outputId": "9fb7e564-05af-4f0d-8b13-fd3fe0895b32",
        "colab": {
          "base_uri": "https://localhost:8080/",
          "height": 315
        }
      },
      "source": [
        "data=pd.read_csv(\"pakistanIntellectual.csv\",engine='python')"
      ],
      "execution_count": 2,
      "outputs": [
        {
          "output_type": "error",
          "ename": "FileNotFoundError",
          "evalue": "ignored",
          "traceback": [
            "\u001b[0;31m---------------------------------------------------------------------------\u001b[0m",
            "\u001b[0;31mFileNotFoundError\u001b[0m                         Traceback (most recent call last)",
            "\u001b[0;32m<ipython-input-2-cb6dd44ecec4>\u001b[0m in \u001b[0;36m<module>\u001b[0;34m()\u001b[0m\n\u001b[0;32m----> 1\u001b[0;31m \u001b[0mdata\u001b[0m\u001b[0;34m=\u001b[0m\u001b[0mpd\u001b[0m\u001b[0;34m.\u001b[0m\u001b[0mread_csv\u001b[0m\u001b[0;34m(\u001b[0m\u001b[0;34m\"pakistanIntellectual.csv\"\u001b[0m\u001b[0;34m,\u001b[0m\u001b[0mengine\u001b[0m\u001b[0;34m=\u001b[0m\u001b[0;34m'python'\u001b[0m\u001b[0;34m)\u001b[0m\u001b[0;34m\u001b[0m\u001b[0;34m\u001b[0m\u001b[0m\n\u001b[0m",
            "\u001b[0;32m/usr/local/lib/python3.7/dist-packages/pandas/io/parsers.py\u001b[0m in \u001b[0;36mread_csv\u001b[0;34m(filepath_or_buffer, sep, delimiter, header, names, index_col, usecols, squeeze, prefix, mangle_dupe_cols, dtype, engine, converters, true_values, false_values, skipinitialspace, skiprows, skipfooter, nrows, na_values, keep_default_na, na_filter, verbose, skip_blank_lines, parse_dates, infer_datetime_format, keep_date_col, date_parser, dayfirst, cache_dates, iterator, chunksize, compression, thousands, decimal, lineterminator, quotechar, quoting, doublequote, escapechar, comment, encoding, dialect, error_bad_lines, warn_bad_lines, delim_whitespace, low_memory, memory_map, float_precision)\u001b[0m\n\u001b[1;32m    686\u001b[0m     )\n\u001b[1;32m    687\u001b[0m \u001b[0;34m\u001b[0m\u001b[0m\n\u001b[0;32m--> 688\u001b[0;31m     \u001b[0;32mreturn\u001b[0m \u001b[0m_read\u001b[0m\u001b[0;34m(\u001b[0m\u001b[0mfilepath_or_buffer\u001b[0m\u001b[0;34m,\u001b[0m \u001b[0mkwds\u001b[0m\u001b[0;34m)\u001b[0m\u001b[0;34m\u001b[0m\u001b[0;34m\u001b[0m\u001b[0m\n\u001b[0m\u001b[1;32m    689\u001b[0m \u001b[0;34m\u001b[0m\u001b[0m\n\u001b[1;32m    690\u001b[0m \u001b[0;34m\u001b[0m\u001b[0m\n",
            "\u001b[0;32m/usr/local/lib/python3.7/dist-packages/pandas/io/parsers.py\u001b[0m in \u001b[0;36m_read\u001b[0;34m(filepath_or_buffer, kwds)\u001b[0m\n\u001b[1;32m    452\u001b[0m \u001b[0;34m\u001b[0m\u001b[0m\n\u001b[1;32m    453\u001b[0m     \u001b[0;31m# Create the parser.\u001b[0m\u001b[0;34m\u001b[0m\u001b[0;34m\u001b[0m\u001b[0;34m\u001b[0m\u001b[0m\n\u001b[0;32m--> 454\u001b[0;31m     \u001b[0mparser\u001b[0m \u001b[0;34m=\u001b[0m \u001b[0mTextFileReader\u001b[0m\u001b[0;34m(\u001b[0m\u001b[0mfp_or_buf\u001b[0m\u001b[0;34m,\u001b[0m \u001b[0;34m**\u001b[0m\u001b[0mkwds\u001b[0m\u001b[0;34m)\u001b[0m\u001b[0;34m\u001b[0m\u001b[0;34m\u001b[0m\u001b[0m\n\u001b[0m\u001b[1;32m    455\u001b[0m \u001b[0;34m\u001b[0m\u001b[0m\n\u001b[1;32m    456\u001b[0m     \u001b[0;32mif\u001b[0m \u001b[0mchunksize\u001b[0m \u001b[0;32mor\u001b[0m \u001b[0miterator\u001b[0m\u001b[0;34m:\u001b[0m\u001b[0;34m\u001b[0m\u001b[0;34m\u001b[0m\u001b[0m\n",
            "\u001b[0;32m/usr/local/lib/python3.7/dist-packages/pandas/io/parsers.py\u001b[0m in \u001b[0;36m__init__\u001b[0;34m(self, f, engine, **kwds)\u001b[0m\n\u001b[1;32m    946\u001b[0m             \u001b[0mself\u001b[0m\u001b[0;34m.\u001b[0m\u001b[0moptions\u001b[0m\u001b[0;34m[\u001b[0m\u001b[0;34m\"has_index_names\"\u001b[0m\u001b[0;34m]\u001b[0m \u001b[0;34m=\u001b[0m \u001b[0mkwds\u001b[0m\u001b[0;34m[\u001b[0m\u001b[0;34m\"has_index_names\"\u001b[0m\u001b[0;34m]\u001b[0m\u001b[0;34m\u001b[0m\u001b[0;34m\u001b[0m\u001b[0m\n\u001b[1;32m    947\u001b[0m \u001b[0;34m\u001b[0m\u001b[0m\n\u001b[0;32m--> 948\u001b[0;31m         \u001b[0mself\u001b[0m\u001b[0;34m.\u001b[0m\u001b[0m_make_engine\u001b[0m\u001b[0;34m(\u001b[0m\u001b[0mself\u001b[0m\u001b[0;34m.\u001b[0m\u001b[0mengine\u001b[0m\u001b[0;34m)\u001b[0m\u001b[0;34m\u001b[0m\u001b[0;34m\u001b[0m\u001b[0m\n\u001b[0m\u001b[1;32m    949\u001b[0m \u001b[0;34m\u001b[0m\u001b[0m\n\u001b[1;32m    950\u001b[0m     \u001b[0;32mdef\u001b[0m \u001b[0mclose\u001b[0m\u001b[0;34m(\u001b[0m\u001b[0mself\u001b[0m\u001b[0;34m)\u001b[0m\u001b[0;34m:\u001b[0m\u001b[0;34m\u001b[0m\u001b[0;34m\u001b[0m\u001b[0m\n",
            "\u001b[0;32m/usr/local/lib/python3.7/dist-packages/pandas/io/parsers.py\u001b[0m in \u001b[0;36m_make_engine\u001b[0;34m(self, engine)\u001b[0m\n\u001b[1;32m   1189\u001b[0m                     \u001b[0;34m'are \"c\", \"python\", or \"python-fwf\")'\u001b[0m\u001b[0;34m\u001b[0m\u001b[0;34m\u001b[0m\u001b[0m\n\u001b[1;32m   1190\u001b[0m                 )\n\u001b[0;32m-> 1191\u001b[0;31m             \u001b[0mself\u001b[0m\u001b[0;34m.\u001b[0m\u001b[0m_engine\u001b[0m \u001b[0;34m=\u001b[0m \u001b[0mklass\u001b[0m\u001b[0;34m(\u001b[0m\u001b[0mself\u001b[0m\u001b[0;34m.\u001b[0m\u001b[0mf\u001b[0m\u001b[0;34m,\u001b[0m \u001b[0;34m**\u001b[0m\u001b[0mself\u001b[0m\u001b[0;34m.\u001b[0m\u001b[0moptions\u001b[0m\u001b[0;34m)\u001b[0m\u001b[0;34m\u001b[0m\u001b[0;34m\u001b[0m\u001b[0m\n\u001b[0m\u001b[1;32m   1192\u001b[0m \u001b[0;34m\u001b[0m\u001b[0m\n\u001b[1;32m   1193\u001b[0m     \u001b[0;32mdef\u001b[0m \u001b[0m_failover_to_python\u001b[0m\u001b[0;34m(\u001b[0m\u001b[0mself\u001b[0m\u001b[0;34m)\u001b[0m\u001b[0;34m:\u001b[0m\u001b[0;34m\u001b[0m\u001b[0;34m\u001b[0m\u001b[0m\n",
            "\u001b[0;32m/usr/local/lib/python3.7/dist-packages/pandas/io/parsers.py\u001b[0m in \u001b[0;36m__init__\u001b[0;34m(self, f, **kwds)\u001b[0m\n\u001b[1;32m   2387\u001b[0m             \u001b[0mencoding\u001b[0m\u001b[0;34m=\u001b[0m\u001b[0mself\u001b[0m\u001b[0;34m.\u001b[0m\u001b[0mencoding\u001b[0m\u001b[0;34m,\u001b[0m\u001b[0;34m\u001b[0m\u001b[0;34m\u001b[0m\u001b[0m\n\u001b[1;32m   2388\u001b[0m             \u001b[0mcompression\u001b[0m\u001b[0;34m=\u001b[0m\u001b[0mself\u001b[0m\u001b[0;34m.\u001b[0m\u001b[0mcompression\u001b[0m\u001b[0;34m,\u001b[0m\u001b[0;34m\u001b[0m\u001b[0;34m\u001b[0m\u001b[0m\n\u001b[0;32m-> 2389\u001b[0;31m             \u001b[0mmemory_map\u001b[0m\u001b[0;34m=\u001b[0m\u001b[0mself\u001b[0m\u001b[0;34m.\u001b[0m\u001b[0mmemory_map\u001b[0m\u001b[0;34m,\u001b[0m\u001b[0;34m\u001b[0m\u001b[0;34m\u001b[0m\u001b[0m\n\u001b[0m\u001b[1;32m   2390\u001b[0m         )\n\u001b[1;32m   2391\u001b[0m         \u001b[0mself\u001b[0m\u001b[0;34m.\u001b[0m\u001b[0mhandles\u001b[0m\u001b[0;34m.\u001b[0m\u001b[0mextend\u001b[0m\u001b[0;34m(\u001b[0m\u001b[0mhandles\u001b[0m\u001b[0;34m)\u001b[0m\u001b[0;34m\u001b[0m\u001b[0;34m\u001b[0m\u001b[0m\n",
            "\u001b[0;32m/usr/local/lib/python3.7/dist-packages/pandas/io/common.py\u001b[0m in \u001b[0;36mget_handle\u001b[0;34m(path_or_buf, mode, encoding, compression, memory_map, is_text, errors)\u001b[0m\n\u001b[1;32m    494\u001b[0m         \u001b[0;32melif\u001b[0m \u001b[0mis_text\u001b[0m\u001b[0;34m:\u001b[0m\u001b[0;34m\u001b[0m\u001b[0;34m\u001b[0m\u001b[0m\n\u001b[1;32m    495\u001b[0m             \u001b[0;31m# No explicit encoding\u001b[0m\u001b[0;34m\u001b[0m\u001b[0;34m\u001b[0m\u001b[0;34m\u001b[0m\u001b[0m\n\u001b[0;32m--> 496\u001b[0;31m             \u001b[0mf\u001b[0m \u001b[0;34m=\u001b[0m \u001b[0mopen\u001b[0m\u001b[0;34m(\u001b[0m\u001b[0mpath_or_buf\u001b[0m\u001b[0;34m,\u001b[0m \u001b[0mmode\u001b[0m\u001b[0;34m,\u001b[0m \u001b[0merrors\u001b[0m\u001b[0;34m=\u001b[0m\u001b[0;34m\"replace\"\u001b[0m\u001b[0;34m,\u001b[0m \u001b[0mnewline\u001b[0m\u001b[0;34m=\u001b[0m\u001b[0;34m\"\"\u001b[0m\u001b[0;34m)\u001b[0m\u001b[0;34m\u001b[0m\u001b[0;34m\u001b[0m\u001b[0m\n\u001b[0m\u001b[1;32m    497\u001b[0m         \u001b[0;32melse\u001b[0m\u001b[0;34m:\u001b[0m\u001b[0;34m\u001b[0m\u001b[0;34m\u001b[0m\u001b[0m\n\u001b[1;32m    498\u001b[0m             \u001b[0;31m# Binary mode\u001b[0m\u001b[0;34m\u001b[0m\u001b[0;34m\u001b[0m\u001b[0;34m\u001b[0m\u001b[0m\n",
            "\u001b[0;31mFileNotFoundError\u001b[0m: [Errno 2] No such file or directory: 'pakistanIntellectual.csv'"
          ]
        }
      ]
    },
    {
      "cell_type": "code",
      "metadata": {
        "colab": {
          "base_uri": "https://localhost:8080/",
          "height": 417
        },
        "id": "3YsguBd142vW",
        "outputId": "0620c72c-4370-48af-b119-0609a65027eb"
      },
      "source": [
        "data.head()"
      ],
      "execution_count": null,
      "outputs": [
        {
          "output_type": "execute_result",
          "data": {
            "text/html": [
              "<div>\n",
              "<style scoped>\n",
              "    .dataframe tbody tr th:only-of-type {\n",
              "        vertical-align: middle;\n",
              "    }\n",
              "\n",
              "    .dataframe tbody tr th {\n",
              "        vertical-align: top;\n",
              "    }\n",
              "\n",
              "    .dataframe thead th {\n",
              "        text-align: right;\n",
              "    }\n",
              "</style>\n",
              "<table border=\"1\" class=\"dataframe\">\n",
              "  <thead>\n",
              "    <tr style=\"text-align: right;\">\n",
              "      <th></th>\n",
              "      <th>S#</th>\n",
              "      <th>Teacher Name</th>\n",
              "      <th>University Currently Teaching</th>\n",
              "      <th>Department</th>\n",
              "      <th>Province University Located</th>\n",
              "      <th>Designation</th>\n",
              "      <th>Terminal Degree</th>\n",
              "      <th>Graduated from</th>\n",
              "      <th>Country</th>\n",
              "      <th>Year</th>\n",
              "      <th>Area of Specialization/Research Interests</th>\n",
              "      <th>Other Information</th>\n",
              "    </tr>\n",
              "  </thead>\n",
              "  <tbody>\n",
              "    <tr>\n",
              "      <th>0</th>\n",
              "      <td>1</td>\n",
              "      <td>Dr. Ihsan Ullah</td>\n",
              "      <td>University of Balochistan</td>\n",
              "      <td>Computer Science &amp; IT</td>\n",
              "      <td>Balochistan</td>\n",
              "      <td>Assistant Professor</td>\n",
              "      <td>PhD</td>\n",
              "      <td>NaN</td>\n",
              "      <td>France</td>\n",
              "      <td>NaN</td>\n",
              "      <td>P2P Networks, Telecommunication Systems</td>\n",
              "      <td>NaN</td>\n",
              "    </tr>\n",
              "    <tr>\n",
              "      <th>1</th>\n",
              "      <td>2</td>\n",
              "      <td>Dr. Atiq Ahmed</td>\n",
              "      <td>University of Balochistan</td>\n",
              "      <td>Computer Science &amp; IT</td>\n",
              "      <td>Balochistan</td>\n",
              "      <td>Associate Professor</td>\n",
              "      <td>PhD</td>\n",
              "      <td>NaN</td>\n",
              "      <td>France</td>\n",
              "      <td>NaN</td>\n",
              "      <td>Wireless Networks, Telecommunication Systems, ...</td>\n",
              "      <td>NaN</td>\n",
              "    </tr>\n",
              "    <tr>\n",
              "      <th>2</th>\n",
              "      <td>3</td>\n",
              "      <td>Dr. Abdul Basit</td>\n",
              "      <td>University of Balochistan</td>\n",
              "      <td>Computer Science &amp; IT</td>\n",
              "      <td>Balochistan</td>\n",
              "      <td>Assistant Professor</td>\n",
              "      <td>PhD</td>\n",
              "      <td>Asian Institute of Technology</td>\n",
              "      <td>Thailand</td>\n",
              "      <td>NaN</td>\n",
              "      <td>Software Engineering &amp; DBMS</td>\n",
              "      <td>NaN</td>\n",
              "    </tr>\n",
              "    <tr>\n",
              "      <th>3</th>\n",
              "      <td>4</td>\n",
              "      <td>Mr. Muhammad Khalid Badini</td>\n",
              "      <td>University of Balochistan</td>\n",
              "      <td>Computer Science &amp; IT</td>\n",
              "      <td>Balochistan</td>\n",
              "      <td>Assistant Professor</td>\n",
              "      <td>MS</td>\n",
              "      <td>NaN</td>\n",
              "      <td>NaN</td>\n",
              "      <td>NaN</td>\n",
              "      <td>Operating System &amp; DBMS</td>\n",
              "      <td>On study leave</td>\n",
              "    </tr>\n",
              "    <tr>\n",
              "      <th>4</th>\n",
              "      <td>5</td>\n",
              "      <td>Dr. Waheed Noor</td>\n",
              "      <td>University of Balochistan</td>\n",
              "      <td>Computer Science &amp; IT</td>\n",
              "      <td>Balochistan</td>\n",
              "      <td>Assistant Professor</td>\n",
              "      <td>PhD</td>\n",
              "      <td>Asian Institute of Technology</td>\n",
              "      <td>Thailand</td>\n",
              "      <td>NaN</td>\n",
              "      <td>DBMS</td>\n",
              "      <td>NaN</td>\n",
              "    </tr>\n",
              "  </tbody>\n",
              "</table>\n",
              "</div>"
            ],
            "text/plain": [
              "   S#  ... Other Information\n",
              "0   1  ...               NaN\n",
              "1   2  ...               NaN\n",
              "2   3  ...               NaN\n",
              "3   4  ...    On study leave\n",
              "4   5  ...               NaN\n",
              "\n",
              "[5 rows x 12 columns]"
            ]
          },
          "metadata": {
            "tags": []
          },
          "execution_count": 38
        }
      ]
    },
    {
      "cell_type": "code",
      "metadata": {
        "id": "eay4rlp86DsA"
      },
      "source": [
        "train_test_data=[data]\n",
        "for dataset in train_test_data:\n",
        "  dataset['degree_title']=dataset['Terminal Degree'].str.extract('([A-Za-z]+)',expand=False)"
      ],
      "execution_count": null,
      "outputs": []
    },
    {
      "cell_type": "code",
      "metadata": {
        "colab": {
          "base_uri": "https://localhost:8080/"
        },
        "id": "MJdWf2aP63Ni",
        "outputId": "70ea78bf-98ff-4abe-fa15-d7387a9c2eab"
      },
      "source": [
        "data['degree_title'].value_counts()"
      ],
      "execution_count": null,
      "outputs": [
        {
          "output_type": "execute_result",
          "data": {
            "text/plain": [
              "MS           561\n",
              "PhD          438\n",
              "BS           101\n",
              "MSc           59\n",
              "M             52\n",
              "MCS           35\n",
              "Ph            30\n",
              "Mphil         23\n",
              "MSCS          19\n",
              "Phd           17\n",
              "Post          14\n",
              "ME            11\n",
              "MBA           11\n",
              "MPhil          9\n",
              "BSCS           6\n",
              "PostDoc        6\n",
              "BE             6\n",
              "BCS            4\n",
              "MA             4\n",
              "Mcs            4\n",
              "B              4\n",
              "MCIT           3\n",
              "Bachelors      3\n",
              "MSSE           3\n",
              "MSIT           2\n",
              "MIT            2\n",
              "BSC            2\n",
              "MSC            2\n",
              "BA             1\n",
              "BSIT           1\n",
              "BIT            1\n",
              "BSc            1\n",
              "MBS            1\n",
              "MSTN           1\n",
              "Doctor         1\n",
              "Masters        1\n",
              "Master         1\n",
              "Name: degree_title, dtype: int64"
            ]
          },
          "metadata": {
            "tags": []
          },
          "execution_count": 18
        }
      ]
    },
    {
      "cell_type": "code",
      "metadata": {
        "id": "X2rtD9II7of6"
      },
      "source": [
        "phd_foreign=data.loc[(data['degree_title']=='PhD') & (data['Country']!='Pakistan')]\n",
        "phd_pak=data.loc[(data['degree_title']=='PhD') & (data['Country']=='Pakistan')]\n",
        "phd_usa=data.loc[(data['degree_title']=='PhD') & (data['Country']=='USA')]\n",
        "phd_uk=data.loc[(data['degree_title']=='PhD') & (data['Country']=='UK')]\n",
        "comsats_data=data.loc[(data['University Currently Teaching']=='COMSATS, Islamabad Campus') &(data['Country']!='Pakistan')]"
      ],
      "execution_count": null,
      "outputs": []
    },
    {
      "cell_type": "code",
      "metadata": {
        "id": "MOWbUzo68kPP"
      },
      "source": [
        "comsats_data=data.loc[(data['University Currently Teaching']=='COMSATS, Islamabad Campus') &(data['degree_title']=='PhD')]"
      ],
      "execution_count": null,
      "outputs": []
    },
    {
      "cell_type": "code",
      "metadata": {
        "id": "Iv-ZggjVALdE"
      },
      "source": [
        "phd_in_pak=data.loc[(data['degree_title']=='PhD')]"
      ],
      "execution_count": null,
      "outputs": []
    },
    {
      "cell_type": "code",
      "metadata": {
        "colab": {
          "base_uri": "https://localhost:8080/"
        },
        "id": "r6wDRNjLCJ5A",
        "outputId": "e0e1d934-e537-4965-a68e-1898301c54b1"
      },
      "source": [
        "phd_in_pak.info()"
      ],
      "execution_count": null,
      "outputs": [
        {
          "output_type": "stream",
          "text": [
            "<class 'pandas.core.frame.DataFrame'>\n",
            "Int64Index: 438 entries, 0 to 1980\n",
            "Data columns (total 14 columns):\n",
            " #   Column                                     Non-Null Count  Dtype  \n",
            "---  ------                                     --------------  -----  \n",
            " 0   S#                                         438 non-null    int64  \n",
            " 1   Teacher Name                               438 non-null    object \n",
            " 2   University Currently Teaching              438 non-null    object \n",
            " 3   Department                                 438 non-null    object \n",
            " 4   Province University Located                438 non-null    object \n",
            " 5   Designation                                420 non-null    object \n",
            " 6   Terminal Degree                            438 non-null    object \n",
            " 7   Graduated from                             363 non-null    object \n",
            " 8   Country                                    396 non-null    object \n",
            " 9   Year                                       184 non-null    float64\n",
            " 10  Area of Specialization/Research Interests  289 non-null    object \n",
            " 11  Other Information                          16 non-null     object \n",
            " 12  title                                      105 non-null    object \n",
            " 13  degree_title                               438 non-null    object \n",
            "dtypes: float64(1), int64(1), object(12)\n",
            "memory usage: 51.3+ KB\n"
          ],
          "name": "stdout"
        }
      ]
    },
    {
      "cell_type": "code",
      "metadata": {
        "colab": {
          "base_uri": "https://localhost:8080/"
        },
        "id": "AAyvypkrBcMm",
        "outputId": "7ae38d74-c54e-4d7f-b9ac-96215bdb7445"
      },
      "source": [
        "phd_in_pak['Province University Located'].describe()"
      ],
      "execution_count": null,
      "outputs": [
        {
          "output_type": "execute_result",
          "data": {
            "text/plain": [
              "count        438\n",
              "unique         5\n",
              "top       Punjab\n",
              "freq         151\n",
              "Name: Province University Located, dtype: object"
            ]
          },
          "metadata": {
            "tags": []
          },
          "execution_count": 62
        }
      ]
    },
    {
      "cell_type": "code",
      "metadata": {
        "colab": {
          "base_uri": "https://localhost:8080/"
        },
        "id": "Ij-Rt61XCazI",
        "outputId": "baeb3fc5-b474-49c1-be81-82fbf087d564"
      },
      "source": [
        "((phd_in_pak['Province University Located']!='Capital')&(phd_in_pak['Province University Located']!='Punjab')).sum()"
      ],
      "execution_count": null,
      "outputs": [
        {
          "output_type": "execute_result",
          "data": {
            "text/plain": [
              "180"
            ]
          },
          "metadata": {
            "tags": []
          },
          "execution_count": 68
        }
      ]
    },
    {
      "cell_type": "code",
      "metadata": {
        "id": "HZfMLdWDA9Br"
      },
      "source": [
        "phd_in_pak.to_csv(\"comsats.csv\", index=False)"
      ],
      "execution_count": null,
      "outputs": []
    },
    {
      "cell_type": "code",
      "metadata": {
        "colab": {
          "base_uri": "https://localhost:8080/"
        },
        "id": "1tQSe1uz725R",
        "outputId": "01ea5d4b-7ce3-4900-dbba-ece76c8eceae"
      },
      "source": [
        "data['Country'].value_counts()"
      ],
      "execution_count": null,
      "outputs": [
        {
          "output_type": "execute_result",
          "data": {
            "text/plain": [
              "Pakistan              794\n",
              "UK                    103\n",
              "USA                    54\n",
              "Malaysia               28\n",
              "France                 27\n",
              "Austria                24\n",
              "Germany                22\n",
              "China                  21\n",
              "Italy                  18\n",
              "Sweden                 18\n",
              "South Korea            15\n",
              "Thailand               13\n",
              "Australia              10\n",
              "Netherland              8\n",
              "Canada                  7\n",
              "Ireland                 4\n",
              "Singapore               3\n",
              " USA                    3\n",
              "Norway                  3\n",
              "Spain                   3\n",
              "Japan                   3\n",
              "Portugal                2\n",
              "Denmark                 2\n",
              " Germany                2\n",
              "New Zealand             1\n",
              " New Zealand            1\n",
              "Russian Federation      1\n",
              "HongKong                1\n",
              "Greece                  1\n",
              "Mauritius               1\n",
              " Sweden                 1\n",
              "Turkey                  1\n",
              "Saudi Arabia            1\n",
              "Finland                 1\n",
              "Macau                   1\n",
              "Urbana                  1\n",
              "Scotland                1\n",
              "Name: Country, dtype: int64"
            ]
          },
          "metadata": {
            "tags": []
          },
          "execution_count": 19
        }
      ]
    },
    {
      "cell_type": "code",
      "metadata": {
        "colab": {
          "base_uri": "https://localhost:8080/"
        },
        "id": "QK2Hcekx6ir3",
        "outputId": "bebb1193-782a-47f2-ad38-05643ea57a93"
      },
      "source": [
        "data['title'].value_counts()"
      ],
      "execution_count": null,
      "outputs": [
        {
          "output_type": "execute_result",
          "data": {
            "text/plain": [
              "Mr             143\n",
              "Dr             135\n",
              "Ms             133\n",
              "Engr            35\n",
              "M               26\n",
              "Prof             7\n",
              "Khan             4\n",
              "A                4\n",
              "Mrs              4\n",
              "S                3\n",
              "Sh               3\n",
              "Ch               2\n",
              "N                2\n",
              "MR               2\n",
              "Haque            1\n",
              "MS               1\n",
              "Zehra            1\n",
              "R                1\n",
              "Zardari          1\n",
              "KH               1\n",
              "Asif             1\n",
              "Siddiqui         1\n",
              "david            1\n",
              "Farooq           1\n",
              "Sattar           1\n",
              "Haider           1\n",
              "Hina             1\n",
              "Waseemullah      1\n",
              "Name: title, dtype: int64"
            ]
          },
          "metadata": {
            "tags": []
          },
          "execution_count": 6
        }
      ]
    },
    {
      "cell_type": "code",
      "metadata": {
        "colab": {
          "base_uri": "https://localhost:8080/",
          "height": 1000
        },
        "id": "ywDKZnSc3RJt",
        "outputId": "361435d6-c2be-4838-a3e3-06b2c496f826"
      },
      "source": [
        "data.loc[(data['Province University Located']=='Punjab') & (data['Country']=='USA')]"
      ],
      "execution_count": null,
      "outputs": [
        {
          "output_type": "execute_result",
          "data": {
            "text/html": [
              "<div>\n",
              "<style scoped>\n",
              "    .dataframe tbody tr th:only-of-type {\n",
              "        vertical-align: middle;\n",
              "    }\n",
              "\n",
              "    .dataframe tbody tr th {\n",
              "        vertical-align: top;\n",
              "    }\n",
              "\n",
              "    .dataframe thead th {\n",
              "        text-align: right;\n",
              "    }\n",
              "</style>\n",
              "<table border=\"1\" class=\"dataframe\">\n",
              "  <thead>\n",
              "    <tr style=\"text-align: right;\">\n",
              "      <th></th>\n",
              "      <th>S#</th>\n",
              "      <th>Teacher Name</th>\n",
              "      <th>University Currently Teaching</th>\n",
              "      <th>Department</th>\n",
              "      <th>Province University Located</th>\n",
              "      <th>Designation</th>\n",
              "      <th>Terminal Degree</th>\n",
              "      <th>Graduated from</th>\n",
              "      <th>Country</th>\n",
              "      <th>Year</th>\n",
              "      <th>Area of Specialization/Research Interests</th>\n",
              "      <th>Other Information</th>\n",
              "    </tr>\n",
              "  </thead>\n",
              "  <tbody>\n",
              "    <tr>\n",
              "      <th>512</th>\n",
              "      <td>513</td>\n",
              "      <td>Junaid Akhtar</td>\n",
              "      <td>NAML-Mianwali</td>\n",
              "      <td>Computer Science</td>\n",
              "      <td>Punjab</td>\n",
              "      <td>Assistant Professor</td>\n",
              "      <td>Post Doc</td>\n",
              "      <td>University of Virginia</td>\n",
              "      <td>USA</td>\n",
              "      <td>2014.0</td>\n",
              "      <td>Computational Semiotics,Sentiment Analysis,Evo...</td>\n",
              "      <td>NaN</td>\n",
              "    </tr>\n",
              "    <tr>\n",
              "      <th>763</th>\n",
              "      <td>764</td>\n",
              "      <td>Ahmad Shabbar Kazmi</td>\n",
              "      <td>University of Central Punjab</td>\n",
              "      <td>Computer Science</td>\n",
              "      <td>Punjab</td>\n",
              "      <td>Head of Department</td>\n",
              "      <td>PhD</td>\n",
              "      <td>�Boston University</td>\n",
              "      <td>USA</td>\n",
              "      <td>1999.0</td>\n",
              "      <td>Neural Networks</td>\n",
              "      <td>NaN</td>\n",
              "    </tr>\n",
              "    <tr>\n",
              "      <th>766</th>\n",
              "      <td>767</td>\n",
              "      <td>Shafiq Ur Rahman</td>\n",
              "      <td>University of Central Punjab</td>\n",
              "      <td>Computer Science</td>\n",
              "      <td>Punjab</td>\n",
              "      <td>Associate Professor</td>\n",
              "      <td>PhD</td>\n",
              "      <td>George Washington University</td>\n",
              "      <td>USA</td>\n",
              "      <td>1993.0</td>\n",
              "      <td>Natural Language Processing (Morphological Ana...</td>\n",
              "      <td>NaN</td>\n",
              "    </tr>\n",
              "    <tr>\n",
              "      <th>771</th>\n",
              "      <td>772</td>\n",
              "      <td>Shahzad Majeed Tiwana</td>\n",
              "      <td>University of Central Punjab</td>\n",
              "      <td>Computer Science</td>\n",
              "      <td>Punjab</td>\n",
              "      <td>Assistant Professor</td>\n",
              "      <td>PhD</td>\n",
              "      <td>University Of Southern California</td>\n",
              "      <td>USA</td>\n",
              "      <td>2010.0</td>\n",
              "      <td>NaN</td>\n",
              "      <td>NaN</td>\n",
              "    </tr>\n",
              "    <tr>\n",
              "      <th>799</th>\n",
              "      <td>800</td>\n",
              "      <td>Muhammad Usman</td>\n",
              "      <td>University of Central Punjab</td>\n",
              "      <td>Computer Science</td>\n",
              "      <td>Punjab</td>\n",
              "      <td>Lecturer</td>\n",
              "      <td>M.Phil leading to PhD</td>\n",
              "      <td>University of Notre Dame Indiana�</td>\n",
              "      <td>USA</td>\n",
              "      <td>NaN</td>\n",
              "      <td>NaN</td>\n",
              "      <td>NaN</td>\n",
              "    </tr>\n",
              "    <tr>\n",
              "      <th>891</th>\n",
              "      <td>892</td>\n",
              "      <td>Dr. Imran Farid Khan</td>\n",
              "      <td>Punjab University College of Information and T...</td>\n",
              "      <td>Information Technology</td>\n",
              "      <td>Punjab</td>\n",
              "      <td>Assistant Professor</td>\n",
              "      <td>PhD</td>\n",
              "      <td>Columbia University</td>\n",
              "      <td>USA</td>\n",
              "      <td>2012.0</td>\n",
              "      <td>Graph Theory (especially Topological Graph The...</td>\n",
              "      <td>NaN</td>\n",
              "    </tr>\n",
              "    <tr>\n",
              "      <th>892</th>\n",
              "      <td>893</td>\n",
              "      <td>Dr. Mehvish Irfan Poshni</td>\n",
              "      <td>Punjab University College of Information and T...</td>\n",
              "      <td>Information Technology</td>\n",
              "      <td>Punjab</td>\n",
              "      <td>Assistant Professor</td>\n",
              "      <td>PhD</td>\n",
              "      <td>Columbia University</td>\n",
              "      <td>USA</td>\n",
              "      <td>2012.0</td>\n",
              "      <td>Topological graph theory</td>\n",
              "      <td>NaN</td>\n",
              "    </tr>\n",
              "    <tr>\n",
              "      <th>895</th>\n",
              "      <td>896</td>\n",
              "      <td>Dr. Fawaz Bokhari</td>\n",
              "      <td>Punjab University College of Information and T...</td>\n",
              "      <td>Information Technology</td>\n",
              "      <td>Punjab</td>\n",
              "      <td>Assistant Professor</td>\n",
              "      <td>PhD</td>\n",
              "      <td>University of Texas at Arlington (UTA)</td>\n",
              "      <td>USA</td>\n",
              "      <td>2012.0</td>\n",
              "      <td>Computer networks, broadband wireless networki...</td>\n",
              "      <td>NaN</td>\n",
              "    </tr>\n",
              "    <tr>\n",
              "      <th>949</th>\n",
              "      <td>950</td>\n",
              "      <td>Ali Afzal Malik</td>\n",
              "      <td>FAST(Lahore)</td>\n",
              "      <td>Computer Science</td>\n",
              "      <td>Punjab</td>\n",
              "      <td>Assistant Professor</td>\n",
              "      <td>PhD</td>\n",
              "      <td>University of Southern California</td>\n",
              "      <td>USA</td>\n",
              "      <td>2010.0</td>\n",
              "      <td>empirical software engineering and software co...</td>\n",
              "      <td>NaN</td>\n",
              "    </tr>\n",
              "    <tr>\n",
              "      <th>952</th>\n",
              "      <td>953</td>\n",
              "      <td>Maryam Bashir</td>\n",
              "      <td>FAST(Lahore)</td>\n",
              "      <td>Computer Science</td>\n",
              "      <td>Punjab</td>\n",
              "      <td>Assistant Professor</td>\n",
              "      <td>PhD</td>\n",
              "      <td>Northeastern University,Boston</td>\n",
              "      <td>USA</td>\n",
              "      <td>2014.0</td>\n",
              "      <td>�Information Retrieval, Machine Leaning, Bioin...</td>\n",
              "      <td>NaN</td>\n",
              "    </tr>\n",
              "    <tr>\n",
              "      <th>955</th>\n",
              "      <td>956</td>\n",
              "      <td>Muhammad Usman Sadiq</td>\n",
              "      <td>FAST(Lahore)</td>\n",
              "      <td>Computer Science</td>\n",
              "      <td>Punjab</td>\n",
              "      <td>Assistant Professor</td>\n",
              "      <td>PhD</td>\n",
              "      <td>Purdue University</td>\n",
              "      <td>USA</td>\n",
              "      <td>2016.0</td>\n",
              "      <td>�iterative methods to solve inverse problems, ...</td>\n",
              "      <td>NaN</td>\n",
              "    </tr>\n",
              "    <tr>\n",
              "      <th>969</th>\n",
              "      <td>970</td>\n",
              "      <td>Sarim Baig</td>\n",
              "      <td>FAST(Lahore)</td>\n",
              "      <td>Computer Science</td>\n",
              "      <td>Punjab</td>\n",
              "      <td>Assistant Professor</td>\n",
              "      <td>MS</td>\n",
              "      <td>Stanford University</td>\n",
              "      <td>USA</td>\n",
              "      <td>2009.0</td>\n",
              "      <td>NaN</td>\n",
              "      <td>NaN</td>\n",
              "    </tr>\n",
              "    <tr>\n",
              "      <th>973</th>\n",
              "      <td>974</td>\n",
              "      <td>Waqas Zyad</td>\n",
              "      <td>FAST(Lahore)</td>\n",
              "      <td>Computer Science</td>\n",
              "      <td>Punjab</td>\n",
              "      <td>Assistant Professor</td>\n",
              "      <td>MS</td>\n",
              "      <td>Northeastern University,Boston</td>\n",
              "      <td>USA</td>\n",
              "      <td>1992.0</td>\n",
              "      <td>NaN</td>\n",
              "      <td>NaN</td>\n",
              "    </tr>\n",
              "    <tr>\n",
              "      <th>982</th>\n",
              "      <td>983</td>\n",
              "      <td>Umar Saif</td>\n",
              "      <td>Information Technology University</td>\n",
              "      <td>Computer Science</td>\n",
              "      <td>Punjab</td>\n",
              "      <td>Vice Chancellor</td>\n",
              "      <td>Post Doc</td>\n",
              "      <td>Massachusetts Institute of Technology</td>\n",
              "      <td>USA</td>\n",
              "      <td>2002.0</td>\n",
              "      <td>Ubiquitous Computing, Operating Systems, Distr...</td>\n",
              "      <td>NaN</td>\n",
              "    </tr>\n",
              "    <tr>\n",
              "      <th>987</th>\n",
              "      <td>988</td>\n",
              "      <td>Suleman Mazhar</td>\n",
              "      <td>Information Technology University</td>\n",
              "      <td>Computer Science</td>\n",
              "      <td>Punjab</td>\n",
              "      <td>Assistant Professor</td>\n",
              "      <td>Post Doc</td>\n",
              "      <td>Georgetown University,DC</td>\n",
              "      <td>USA</td>\n",
              "      <td>2010.0</td>\n",
              "      <td>Artificial Intelligence &amp; Machine Learning, Ex...</td>\n",
              "      <td>NaN</td>\n",
              "    </tr>\n",
              "    <tr>\n",
              "      <th>989</th>\n",
              "      <td>990</td>\n",
              "      <td>Yasira Waqar</td>\n",
              "      <td>Information Technology University</td>\n",
              "      <td>Computer Science</td>\n",
              "      <td>Punjab</td>\n",
              "      <td>NaN</td>\n",
              "      <td>PhD</td>\n",
              "      <td>Columbia University</td>\n",
              "      <td>USA</td>\n",
              "      <td>2012.0</td>\n",
              "      <td>Educational Technology Integration at Differen...</td>\n",
              "      <td>NaN</td>\n",
              "    </tr>\n",
              "    <tr>\n",
              "      <th>990</th>\n",
              "      <td>991</td>\n",
              "      <td>Tahira Naseem</td>\n",
              "      <td>Information Technology University</td>\n",
              "      <td>Computer Science</td>\n",
              "      <td>Punjab</td>\n",
              "      <td>Assistant Professor</td>\n",
              "      <td>PhD</td>\n",
              "      <td>Massachusetts Institute of Technology</td>\n",
              "      <td>USA</td>\n",
              "      <td>2014.0</td>\n",
              "      <td>Natural Language Processing, Probabilistic Gra...</td>\n",
              "      <td>NaN</td>\n",
              "    </tr>\n",
              "    <tr>\n",
              "      <th>991</th>\n",
              "      <td>992</td>\n",
              "      <td>Mudassir Shabbir</td>\n",
              "      <td>Information Technology University</td>\n",
              "      <td>Computer Science</td>\n",
              "      <td>Punjab</td>\n",
              "      <td>NaN</td>\n",
              "      <td>PhD</td>\n",
              "      <td>Rutgers State University of New Jersey, NJ</td>\n",
              "      <td>USA</td>\n",
              "      <td>NaN</td>\n",
              "      <td>Algorithmic and Discrete Geometry, Combinatori...</td>\n",
              "      <td>NaN</td>\n",
              "    </tr>\n",
              "    <tr>\n",
              "      <th>992</th>\n",
              "      <td>993</td>\n",
              "      <td>Mohsen Ali</td>\n",
              "      <td>Information Technology University</td>\n",
              "      <td>Computer Science</td>\n",
              "      <td>Punjab</td>\n",
              "      <td>Assistant Professor</td>\n",
              "      <td>PhD</td>\n",
              "      <td>University of Florida</td>\n",
              "      <td>USA</td>\n",
              "      <td>NaN</td>\n",
              "      <td>solving theoretical and practical problems ent...</td>\n",
              "      <td>NaN</td>\n",
              "    </tr>\n",
              "    <tr>\n",
              "      <th>994</th>\n",
              "      <td>995</td>\n",
              "      <td>Agha Ali Raza</td>\n",
              "      <td>Information Technology University</td>\n",
              "      <td>Computer Science</td>\n",
              "      <td>Punjab</td>\n",
              "      <td>Assistant Professor</td>\n",
              "      <td>PhD</td>\n",
              "      <td>Carnegie Mellon University, Pittsburgh</td>\n",
              "      <td>USA</td>\n",
              "      <td>NaN</td>\n",
              "      <td>Speech and Language Technologies, Designing in...</td>\n",
              "      <td>NaN</td>\n",
              "    </tr>\n",
              "    <tr>\n",
              "      <th>995</th>\n",
              "      <td>996</td>\n",
              "      <td>Asim Karim</td>\n",
              "      <td>Lahore University of Management Sciences</td>\n",
              "      <td>Computer Science</td>\n",
              "      <td>Punjab</td>\n",
              "      <td>Professor</td>\n",
              "      <td>PhD</td>\n",
              "      <td>The Ohio State University</td>\n",
              "      <td>USA</td>\n",
              "      <td>2002.0</td>\n",
              "      <td>data mining, machine learning, and applied art...</td>\n",
              "      <td>NaN</td>\n",
              "    </tr>\n",
              "    <tr>\n",
              "      <th>996</th>\n",
              "      <td>997</td>\n",
              "      <td>Basit Shafiq</td>\n",
              "      <td>Lahore University of Management Sciences</td>\n",
              "      <td>Computer Science</td>\n",
              "      <td>Punjab</td>\n",
              "      <td>Associate Professor</td>\n",
              "      <td>PhD</td>\n",
              "      <td>Purdue University</td>\n",
              "      <td>USA</td>\n",
              "      <td>2006.0</td>\n",
              "      <td>Information systems security, secure distribut...</td>\n",
              "      <td>NaN</td>\n",
              "    </tr>\n",
              "    <tr>\n",
              "      <th>999</th>\n",
              "      <td>1000</td>\n",
              "      <td>Ihsan Ayyub Qazi</td>\n",
              "      <td>Lahore University of Management Sciences</td>\n",
              "      <td>Computer Science</td>\n",
              "      <td>Punjab</td>\n",
              "      <td>Associate Professor</td>\n",
              "      <td>PhD</td>\n",
              "      <td>University of Pittsburgh</td>\n",
              "      <td>USA</td>\n",
              "      <td>2010.0</td>\n",
              "      <td>computer networks and distributed systems and ...</td>\n",
              "      <td>NaN</td>\n",
              "    </tr>\n",
              "    <tr>\n",
              "      <th>1000</th>\n",
              "      <td>1001</td>\n",
              "      <td>ImdadUllah Khan</td>\n",
              "      <td>Lahore University of Management Sciences</td>\n",
              "      <td>Computer Science</td>\n",
              "      <td>Punjab</td>\n",
              "      <td>Assistant Professor</td>\n",
              "      <td>PhD</td>\n",
              "      <td>The State University of New Jersey</td>\n",
              "      <td>USA</td>\n",
              "      <td>NaN</td>\n",
              "      <td>NaN</td>\n",
              "      <td>NaN</td>\n",
              "    </tr>\n",
              "    <tr>\n",
              "      <th>1001</th>\n",
              "      <td>1002</td>\n",
              "      <td>Junaid Haroon Siddiqui</td>\n",
              "      <td>Lahore University of Management Sciences</td>\n",
              "      <td>Computer Science</td>\n",
              "      <td>Punjab</td>\n",
              "      <td>Assistant Professor</td>\n",
              "      <td>PhD</td>\n",
              "      <td>The University of Texas at Austin</td>\n",
              "      <td>USA</td>\n",
              "      <td>2012.0</td>\n",
              "      <td>program analysis using static and dynamic tech...</td>\n",
              "      <td>NaN</td>\n",
              "    </tr>\n",
              "    <tr>\n",
              "      <th>1006</th>\n",
              "      <td>1007</td>\n",
              "      <td>Naveed Arshad</td>\n",
              "      <td>Lahore University of Management Sciences</td>\n",
              "      <td>Computer Science</td>\n",
              "      <td>Punjab</td>\n",
              "      <td>Associate Professor/Chair</td>\n",
              "      <td>PhD</td>\n",
              "      <td>University of Colorado�</td>\n",
              "      <td>USA</td>\n",
              "      <td>NaN</td>\n",
              "      <td>short, medium and long term forecasting of ene...</td>\n",
              "      <td>NaN</td>\n",
              "    </tr>\n",
              "    <tr>\n",
              "      <th>1091</th>\n",
              "      <td>1092</td>\n",
              "      <td>Ahmad Sohail Aslam</td>\n",
              "      <td>University of Management and Technology</td>\n",
              "      <td>Computer Science</td>\n",
              "      <td>Punjab</td>\n",
              "      <td>Assistant Professor</td>\n",
              "      <td>MS</td>\n",
              "      <td>University of South Florida</td>\n",
              "      <td>USA</td>\n",
              "      <td>NaN</td>\n",
              "      <td>NaN</td>\n",
              "      <td>NaN</td>\n",
              "    </tr>\n",
              "    <tr>\n",
              "      <th>1715</th>\n",
              "      <td>1716</td>\n",
              "      <td>Fakhar-ul-Islam</td>\n",
              "      <td>Gift University</td>\n",
              "      <td>Computer Science</td>\n",
              "      <td>Punjab</td>\n",
              "      <td>Professor/Dean</td>\n",
              "      <td>MSc</td>\n",
              "      <td>George Washington University</td>\n",
              "      <td>USA</td>\n",
              "      <td>NaN</td>\n",
              "      <td>NaN</td>\n",
              "      <td>NaN</td>\n",
              "    </tr>\n",
              "  </tbody>\n",
              "</table>\n",
              "</div>"
            ],
            "text/plain": [
              "        S#  ... Other Information\n",
              "512    513  ...               NaN\n",
              "763    764  ...               NaN\n",
              "766    767  ...               NaN\n",
              "771    772  ...               NaN\n",
              "799    800  ...               NaN\n",
              "891    892  ...               NaN\n",
              "892    893  ...               NaN\n",
              "895    896  ...               NaN\n",
              "949    950  ...               NaN\n",
              "952    953  ...               NaN\n",
              "955    956  ...               NaN\n",
              "969    970  ...               NaN\n",
              "973    974  ...               NaN\n",
              "982    983  ...               NaN\n",
              "987    988  ...               NaN\n",
              "989    990  ...               NaN\n",
              "990    991  ...               NaN\n",
              "991    992  ...               NaN\n",
              "992    993  ...               NaN\n",
              "994    995  ...               NaN\n",
              "995    996  ...               NaN\n",
              "996    997  ...               NaN\n",
              "999   1000  ...               NaN\n",
              "1000  1001  ...               NaN\n",
              "1001  1002  ...               NaN\n",
              "1006  1007  ...               NaN\n",
              "1091  1092  ...               NaN\n",
              "1715  1716  ...               NaN\n",
              "\n",
              "[28 rows x 12 columns]"
            ]
          },
          "metadata": {
            "tags": []
          },
          "execution_count": 41
        }
      ]
    },
    {
      "cell_type": "code",
      "metadata": {
        "colab": {
          "base_uri": "https://localhost:8080/"
        },
        "id": "uBFrrogF3Xuj",
        "outputId": "d6a94779-d997-4e1d-fabd-cb29f620e85c"
      },
      "source": [
        "data['University Currently Teaching'].value_counts()"
      ],
      "execution_count": null,
      "outputs": [
        {
          "output_type": "execute_result",
          "data": {
            "text/plain": [
              "COMSATS, Islamabad Campus                                                                117\n",
              "Sir Syed University of Engineering and Technology                                         81\n",
              "University of Lahore-PakPattan                                                            71\n",
              "Virtual University                                                                        68\n",
              "Balochistan University of Information Technology, Engineering and Management Sciences     68\n",
              "                                                                                        ... \n",
              "University of Sargodha,Bhakkar Campus                                                      3\n",
              "Islamia College Gujranwala                                                                 2\n",
              "UET-RASUL                                                                                  2\n",
              "Pir Mehr Ali Shah Arid Agriculture University                                              2\n",
              "University of Sahiwal                                                                      1\n",
              "Name: University Currently Teaching, Length: 88, dtype: int64"
            ]
          },
          "metadata": {
            "tags": []
          },
          "execution_count": 35
        }
      ]
    },
    {
      "cell_type": "code",
      "metadata": {
        "colab": {
          "base_uri": "https://localhost:8080/"
        },
        "id": "pe5CyBxbzKwk",
        "outputId": "c7b7be4b-123e-4382-e665-73d5de7569b6"
      },
      "source": [
        "data.info()"
      ],
      "execution_count": null,
      "outputs": [
        {
          "output_type": "stream",
          "text": [
            "<class 'pandas.core.frame.DataFrame'>\n",
            "RangeIndex: 1981 entries, 0 to 1980\n",
            "Data columns (total 12 columns):\n",
            " #   Column                                     Non-Null Count  Dtype  \n",
            "---  ------                                     --------------  -----  \n",
            " 0   S#                                         1981 non-null   int64  \n",
            " 1   Teacher Name                               1981 non-null   object \n",
            " 2   University Currently Teaching              1981 non-null   object \n",
            " 3   Department                                 1981 non-null   object \n",
            " 4   Province University Located                1981 non-null   object \n",
            " 5   Designation                                1918 non-null   object \n",
            " 6   Terminal Degree                            1440 non-null   object \n",
            " 7   Graduated from                             1142 non-null   object \n",
            " 8   Country                                    1200 non-null   object \n",
            " 9   Year                                       499 non-null    float64\n",
            " 10  Area of Specialization/Research Interests  750 non-null    object \n",
            " 11  Other Information                          163 non-null    object \n",
            "dtypes: float64(1), int64(1), object(10)\n",
            "memory usage: 185.8+ KB\n"
          ],
          "name": "stdout"
        }
      ]
    },
    {
      "cell_type": "code",
      "metadata": {
        "colab": {
          "base_uri": "https://localhost:8080/",
          "height": 391
        },
        "id": "EI7WkHHyuxnt",
        "outputId": "c8d51db0-3c8b-4205-c1bd-a6998a11c929"
      },
      "source": [
        "data['Year'].plot(kind='density',figsize=(14,6))"
      ],
      "execution_count": null,
      "outputs": [
        {
          "output_type": "execute_result",
          "data": {
            "text/plain": [
              "<matplotlib.axes._subplots.AxesSubplot at 0x7f52c5961b10>"
            ]
          },
          "metadata": {
            "tags": []
          },
          "execution_count": 5
        },
        {
          "output_type": "display_data",
          "data": {
            "image/png": "[encoded data removed]",
            "text/plain": [
              "<Figure size 1008x432 with 1 Axes>"
            ]
          },
          "metadata": {
            "tags": [],
            "needs_background": "light"
          }
        }
      ]
    },
    {
      "cell_type": "code",
      "metadata": {
        "colab": {
          "base_uri": "https://localhost:8080/"
        },
        "id": "mqalt_ODn7V9",
        "outputId": "a536ff3e-fe4f-4e2d-fca6-d9ab343d31b7"
      },
      "source": [
        "data[\"University Currently Teaching\"].describe()"
      ],
      "execution_count": null,
      "outputs": [
        {
          "output_type": "execute_result",
          "data": {
            "text/plain": [
              "count                          1981\n",
              "unique                           88\n",
              "top       COMSATS, Islamabad Campus\n",
              "freq                            117\n",
              "Name: University Currently Teaching, dtype: object"
            ]
          },
          "metadata": {
            "tags": []
          },
          "execution_count": 6
        }
      ]
    },
    {
      "cell_type": "code",
      "metadata": {
        "colab": {
          "base_uri": "https://localhost:8080/"
        },
        "id": "pUwUS0buntxr",
        "outputId": "be2bdac3-bf71-40af-8a24-b79a102b2180"
      },
      "source": [
        "data[\"University Currently Teaching\"].unique()"
      ],
      "execution_count": null,
      "outputs": [
        {
          "output_type": "execute_result",
          "data": {
            "text/plain": [
              "array(['University of Balochistan',\n",
              "       \"Sardar Bahadur Khan Women's University\",\n",
              "       'Balochistan University of Information Technology, Engineering and Management Sciences',\n",
              "       'University of Loralai', 'University of Turbat',\n",
              "       'COMSATS, Islamabad Campus',\n",
              "       'National University of Sciences and Technology',\n",
              "       'RIPHAH International', 'Quaid e Azam University Islamabad',\n",
              "       'FAST-NU(Islamabad)', 'International Islamic University,Islamabad',\n",
              "       'National University of Modern Languages', 'Air University',\n",
              "       'Bahria University,Islamabad',\n",
              "       'Capital University of Science and Technology',\n",
              "       'Pakistan Institute of Engineering and Applied Sciences',\n",
              "       'University of Sargodha,Mandi Bahauddin Campus', 'UET-RASUL',\n",
              "       'NAML-Mianwali', 'University of Lahore-PakPattan',\n",
              "       'National College of Business Administration & Economics',\n",
              "       'University of Sahiwal', 'COMSATS-Vehari',\n",
              "       'Govt. College Women University,Sialkot',\n",
              "       'Barani Institute of Information and Technology',\n",
              "       'Fatima Jinnah Women University', 'FAST(Faisalabad)',\n",
              "       'University of Central Punjab', 'Lahore Garrison University',\n",
              "       'Punjab University College of Information and Technology',\n",
              "       'FAST(Lahore)', 'Information Technology University',\n",
              "       'Lahore University of Management Sciences', 'Virtual University',\n",
              "       'University of Management and Technology',\n",
              "       'Minhaj University Lahore', 'Beaconhouse National University',\n",
              "       'University of Engineering and Technology, Lahore',\n",
              "       'Shaheed Zulfikar Ali Bhutto Institute of Science and Technology',\n",
              "       'QUAID-E-AWAM UNIVERSITY OF ENGINEERING, SCIENCE & TECHNOLOGY,NAWABSHAH\\n',\n",
              "       'MEHRAN University of Engineering and Technology,Jamshoro',\n",
              "       'Shah Abdul Latif University, Khairpur',\n",
              "       'Shaheed Benazir Bhutto University,Shaheed Benazirabad\\n',\n",
              "       'University of Sindh', 'FAST(Karachi)', 'University of Karachi',\n",
              "       'NED,UET', 'Institute of Business Administration, Karachi�',\n",
              "       'Institute of Business Administration,Sukkur', 'ISRA University',\n",
              "       'Sir Syed University of Engineering and Technology',\n",
              "       'Federal Urdu University Of Arts,Science & Technology',\n",
              "       'Jinnah University for Women',\n",
              "       'Khadim Ali Shah Bukhari Institute of Technology',\n",
              "       'DHA Suffa University',\n",
              "       'PAF-Karachi Institute of Economics and Technology',\n",
              "       'Mohammad Ali Jinnah University', 'Habib University',\n",
              "       'Islamia University Bhawalpur,Bhawalnagar Campus',\n",
              "       'Islamia University Bhawalpur',\n",
              "       'University of Sargodha,Bhakkar Campus',\n",
              "       'University of Sargodha,Mianwali Campus', 'University of Chakwal',\n",
              "       'Ghazi University', 'University of Agricultre Faisalabad',\n",
              "       'Government College University Faisalabad',\n",
              "       'National Textile University,Faisalabad',\n",
              "       'NFC Institute of Engineering and Fertilizer Research',\n",
              "       'Riphah University,Faisalabad', 'Gift University',\n",
              "       'Islamia College Gujranwala',\n",
              "       'Punjab University,Gujranwala Campus',\n",
              "       'University of Engineering and Technology,Rachna',\n",
              "       'University of Lahore,Chenab Campus', 'University of Gujrat',\n",
              "       'University College of Management and Sciences',\n",
              "       'Pir Mehr Ali Shah Arid Agriculture University',\n",
              "       'University of Peshawar',\n",
              "       'University of Engineering and Technology,Peshawar',\n",
              "       'University of Engineering and Technology,Jalozai Campus',\n",
              "       'University of Agriculture,Peshawar',\n",
              "       'Shaheed Benazir Bhutto Women University', 'Qurtuba University',\n",
              "       'FAST,Peshawar', 'City University', 'Abasyn University',\n",
              "       'Iqra National University', 'Ghulam Ishaq Khan Institute'],\n",
              "      dtype=object)"
            ]
          },
          "metadata": {
            "tags": []
          },
          "execution_count": 7
        }
      ]
    },
    {
      "cell_type": "code",
      "metadata": {
        "colab": {
          "base_uri": "https://localhost:8080/"
        },
        "id": "mz0LUfzqz6LK",
        "outputId": "9e99b575-d7b8-42f1-9a56-8ca406f414d8"
      },
      "source": [
        "data.shape"
      ],
      "execution_count": null,
      "outputs": [
        {
          "output_type": "execute_result",
          "data": {
            "text/plain": [
              "(1981, 12)"
            ]
          },
          "metadata": {
            "tags": []
          },
          "execution_count": 8
        }
      ]
    },
    {
      "cell_type": "code",
      "metadata": {
        "colab": {
          "base_uri": "https://localhost:8080/",
          "height": 417
        },
        "id": "_QPEKJyoz9o-",
        "outputId": "a22857dd-2757-422d-d815-1bfd04bdac46"
      },
      "source": [
        "data.head()"
      ],
      "execution_count": null,
      "outputs": [
        {
          "output_type": "execute_result",
          "data": {
            "text/html": [
              "<div>\n",
              "<style scoped>\n",
              "    .dataframe tbody tr th:only-of-type {\n",
              "        vertical-align: middle;\n",
              "    }\n",
              "\n",
              "    .dataframe tbody tr th {\n",
              "        vertical-align: top;\n",
              "    }\n",
              "\n",
              "    .dataframe thead th {\n",
              "        text-align: right;\n",
              "    }\n",
              "</style>\n",
              "<table border=\"1\" class=\"dataframe\">\n",
              "  <thead>\n",
              "    <tr style=\"text-align: right;\">\n",
              "      <th></th>\n",
              "      <th>S#</th>\n",
              "      <th>Teacher Name</th>\n",
              "      <th>University Currently Teaching</th>\n",
              "      <th>Department</th>\n",
              "      <th>Province University Located</th>\n",
              "      <th>Designation</th>\n",
              "      <th>Terminal Degree</th>\n",
              "      <th>Graduated from</th>\n",
              "      <th>Country</th>\n",
              "      <th>Year</th>\n",
              "      <th>Area of Specialization/Research Interests</th>\n",
              "      <th>Other Information</th>\n",
              "    </tr>\n",
              "  </thead>\n",
              "  <tbody>\n",
              "    <tr>\n",
              "      <th>0</th>\n",
              "      <td>1</td>\n",
              "      <td>Dr. Ihsan Ullah</td>\n",
              "      <td>University of Balochistan</td>\n",
              "      <td>Computer Science &amp; IT</td>\n",
              "      <td>Balochistan</td>\n",
              "      <td>Assistant Professor</td>\n",
              "      <td>PhD</td>\n",
              "      <td>NaN</td>\n",
              "      <td>France</td>\n",
              "      <td>NaN</td>\n",
              "      <td>P2P Networks, Telecommunication Systems</td>\n",
              "      <td>NaN</td>\n",
              "    </tr>\n",
              "    <tr>\n",
              "      <th>1</th>\n",
              "      <td>2</td>\n",
              "      <td>Dr. Atiq Ahmed</td>\n",
              "      <td>University of Balochistan</td>\n",
              "      <td>Computer Science &amp; IT</td>\n",
              "      <td>Balochistan</td>\n",
              "      <td>Associate Professor</td>\n",
              "      <td>PhD</td>\n",
              "      <td>NaN</td>\n",
              "      <td>France</td>\n",
              "      <td>NaN</td>\n",
              "      <td>Wireless Networks, Telecommunication Systems, ...</td>\n",
              "      <td>NaN</td>\n",
              "    </tr>\n",
              "    <tr>\n",
              "      <th>2</th>\n",
              "      <td>3</td>\n",
              "      <td>Dr. Abdul Basit</td>\n",
              "      <td>University of Balochistan</td>\n",
              "      <td>Computer Science &amp; IT</td>\n",
              "      <td>Balochistan</td>\n",
              "      <td>Assistant Professor</td>\n",
              "      <td>PhD</td>\n",
              "      <td>Asian Institute of Technology</td>\n",
              "      <td>Thailand</td>\n",
              "      <td>NaN</td>\n",
              "      <td>Software Engineering &amp; DBMS</td>\n",
              "      <td>NaN</td>\n",
              "    </tr>\n",
              "    <tr>\n",
              "      <th>3</th>\n",
              "      <td>4</td>\n",
              "      <td>Mr. Muhammad Khalid Badini</td>\n",
              "      <td>University of Balochistan</td>\n",
              "      <td>Computer Science &amp; IT</td>\n",
              "      <td>Balochistan</td>\n",
              "      <td>Assistant Professor</td>\n",
              "      <td>MS</td>\n",
              "      <td>NaN</td>\n",
              "      <td>NaN</td>\n",
              "      <td>NaN</td>\n",
              "      <td>Operating System &amp; DBMS</td>\n",
              "      <td>On study leave</td>\n",
              "    </tr>\n",
              "    <tr>\n",
              "      <th>4</th>\n",
              "      <td>5</td>\n",
              "      <td>Dr. Waheed Noor</td>\n",
              "      <td>University of Balochistan</td>\n",
              "      <td>Computer Science &amp; IT</td>\n",
              "      <td>Balochistan</td>\n",
              "      <td>Assistant Professor</td>\n",
              "      <td>PhD</td>\n",
              "      <td>Asian Institute of Technology</td>\n",
              "      <td>Thailand</td>\n",
              "      <td>NaN</td>\n",
              "      <td>DBMS</td>\n",
              "      <td>NaN</td>\n",
              "    </tr>\n",
              "  </tbody>\n",
              "</table>\n",
              "</div>"
            ],
            "text/plain": [
              "   S#  ... Other Information\n",
              "0   1  ...               NaN\n",
              "1   2  ...               NaN\n",
              "2   3  ...               NaN\n",
              "3   4  ...    On study leave\n",
              "4   5  ...               NaN\n",
              "\n",
              "[5 rows x 12 columns]"
            ]
          },
          "metadata": {
            "tags": []
          },
          "execution_count": 9
        }
      ]
    },
    {
      "cell_type": "code",
      "metadata": {
        "colab": {
          "base_uri": "https://localhost:8080/"
        },
        "id": "gewiGAdUpKvD",
        "outputId": "17c6e48a-4041-4237-bed1-d8a7731c1ae8"
      },
      "source": [
        "data[\"Graduated from\"].unique()"
      ],
      "execution_count": null,
      "outputs": [
        {
          "output_type": "execute_result",
          "data": {
            "text/plain": [
              "array([nan, 'Asian Institute of Technology',\n",
              "       'Balochistan University of Information Technology, Engineering and Management Sciences',\n",
              "       'University of Balochistan',\n",
              "       \"Sardar Bahadur Khan Women's University\",\n",
              "       'SRH Hochschule Heidelberg',\n",
              "       'Institute of Business Administration,Karachi', 'DUET,Karachi',\n",
              "       'University of Turbat', 'University of Vienna',\n",
              "       'Monash University', 'University of Stirling',\n",
              "       'Chinese Academy of Sciences', 'University of Innsbruck',\n",
              "       'Vienna University of Technology', 'University of Paris-Est',\n",
              "       'The University of Cambridge', 'Harbin Institute of Technology',\n",
              "       'University of Nice, Sophia Antipolis', 'The University of York',\n",
              "       'Galil�e - Universit� Paris 13', 'University of Bedfordshire',\n",
              "       'North Dakota State University', 'Kyungpook National University',\n",
              "       'The University of Manchester',\n",
              "       'National University of Sciences and Technology',\n",
              "       'FAST� National University of Computer and Emerging Sciences',\n",
              "       'Capital University of Science & Technology', 'Gomal University',\n",
              "       'University of Malaya', 'KTH Royal Institute of Technology',\n",
              "       'University of Technology',\n",
              "       'COMSATS Institute of Information Technology',\n",
              "       'Government College University', 'Mohammad Ali Jinnah University',\n",
              "       'Shaheed Zulfikar Ali Bhutto Institute of Science and Technology',\n",
              "       'Blekinge Institute of Technology', 'University of Grenoble',\n",
              "       'Politecnico di Torino', '�University of Missouri, KC',\n",
              "       'University of Bonn', 'University of Paris',\n",
              "       'The University of Leeds', '�University of Windsor',\n",
              "       '�National University of Sciences and Technology-NIIT',\n",
              "       'University of Trento', 'Stockholm University',\n",
              "       'University of New South Wales, Sydney',\n",
              "       'Kingston University London', 'Griffith University',\n",
              "       'University of Salford', 'Loughborough University',\n",
              "       'International Islamic University,Islamabad',\n",
              "       'University of Central Missouri',\n",
              "       'Riphah International University', 'University of BedfordShire',\n",
              "       'University of Illinois', 'University Of Oslo',\n",
              "       'Nancy 2 University', 'University of Limerick',\n",
              "       'Ghulam Ishaq Khan Institute of Science and Technology',\n",
              "       'University Of Waterloo', 'University of Stuttgart',\n",
              "       'Liverpool John Moores University', 'University Of Caen',\n",
              "       'Paris Tech University of Eurecom', 'University Of Salford',\n",
              "       'Lahore University of Management Sciences',\n",
              "       'Dresden University Of Technology, Dresden�',\n",
              "       'COMSATS Institute of Information Technology,Vehari',\n",
              "       'COMSATS Institute of Information Technology,Wah Cantt',\n",
              "       'TU Berlin',\n",
              "       'FAST� National University of Computer and Emerging Sciences,Islamabad',\n",
              "       'Tsinghua University', 'The University of Auckland',\n",
              "       'IQRA University', 'Universiti Teknologi PETRONAS',\n",
              "       'COMSATS Institute of Information Technology,Islamabad',\n",
              "       'Razak School of Engineering and Advanced Technology, Universiti Teknologi Malaysia (UTM)',\n",
              "       'National University of Modern Languages',\n",
              "       'University of Engineering and Technology',\n",
              "       'University Institute of Information Technology',\n",
              "       'University of Arid Agriculture', 'Quaid-i-Azam University',\n",
              "       'Queen Mary University of London',\n",
              "       'Pakistan Institute of Engineering and Applied Sciences',\n",
              "       'Pohang University of Science and Technology',\n",
              "       'Uppsala University', 'Kyung Hee University',\n",
              "       'University of Liverpool', 'University of Sunderland',\n",
              "       'Mid Sweden University', 'Bahria University,Islamabad',\n",
              "       'Chosun University', 'University of Sussex',\n",
              "       'Paris Descartes University', 'University of Leicester',\n",
              "       'University of Porto', 'University of Manchester',\n",
              "       'Universit� Henri Poincar�, Nancy 1,', 'Bahria University',\n",
              "       'Centre for Advanced Studies in Engineering',\n",
              "       'Norwegian University of Science and Technology (NTNU),',\n",
              "       'The Islamia University of Bahawalpur ', 'Universiti Technologi',\n",
              "       'California State University', 'University of Genova',\n",
              "       'University of Engineering and Technology,Taxila',\n",
              "       'University of�Liverpool John Moores University', 'Guildford',\n",
              "       'University of Bradford', 'Graz University of Technology',\n",
              "       'Huazhong University of Science and Technology (HUST), Wuhan',\n",
              "       'University of Konstanz',\n",
              "       'National University of Modern Languages,Islamabad',\n",
              "       'FAST� National University of Computer and Emerging Sciences,Lahore',\n",
              "       'Gwangju Institute of Science and Technology',\n",
              "       'University of Birmingham', 'Manchester University',\n",
              "       'Beijing Institute of Technology', 'University of Paisley',\n",
              "       'Univ of Porto/Univ of Aveiro Portugal/Uni of Minho',\n",
              "       'University of Peshawar', 'Universit�t Salzburg',\n",
              "       'Colorado State University', 'University of Virginia',\n",
              "       'University of Orleans', 'Zhejiang University',\n",
              "       'University of Leeds', 'Foundation University',\n",
              "       'Barani Institute of Information Technology', 'Abasyn University',\n",
              "       'Pir Mehr Ali Shah Arid Agriculture University', 'Preston',\n",
              "       'University of Bergen', 'Universtiy of Lahore',\n",
              "       'HITEC University,Taxila', 'Allama Iqbal Open University',\n",
              "       'University of Wales,Aberystwyth', '�University of Bonn',\n",
              "       '�Hongik University',\n",
              "       'Skolkovo Institute of Science and Technology,�',\n",
              "       'Agricultural University Peshawar', 'National Textile University',\n",
              "       'FAST� National University of Computer and Emerging Sciences,Chiniot-Faisalabad',\n",
              "       'FAST� National University of Computer and Emerging Sciences,Peshawar',\n",
              "       '�Boston University', 'Brunel University',\n",
              "       'George Washington University', 'University of the Punjab',\n",
              "       '�University of Bedfordshire', 'University Of Southern California',\n",
              "       'Beihang University', 'Institute of Business Administration',\n",
              "       'Abdus Salam School of Mathematical Sciences,GC University',\n",
              "       'Link�ping University',\n",
              "       'National College of Business Administration and Economics',\n",
              "       '�bo Akademi University,', 'University of Central Punjab',\n",
              "       'University of Ulm', 'University of Agriculture',\n",
              "       'University of Notre Dame Indiana�',\n",
              "       'Punjab University College of Information Technology',\n",
              "       'Ilmenau University of Technology', ' Iowa State University',\n",
              "       ' University of Innsbruck', 'Vrije University, Amsterdam',\n",
              "       ' Columbia University', 'University of Freiburg',\n",
              "       ' Delft University of Technology',\n",
              "       ' University of Texas at Arlington (UTA)', ' University of Turin',\n",
              "       ' University of Central Florida', 'Saarland University',\n",
              "       'University of Central Florida', 'Oxford Brookes University',\n",
              "       'Information Technology University (ITU)',\n",
              "       'University of Canterbury', 'University of Patras',\n",
              "       'Middle East Technical University', 'University of Bristol',\n",
              "       'University of Southern California',\n",
              "       'Northeastern University,Boston', 'Purdue University',\n",
              "       'University of Plymouth', 'University of South Australia',\n",
              "       'Stanford University', 'Chalmers University of Technology',\n",
              "       'Massachusetts Institute of Technology',\n",
              "       'Sapienza University of Rome',\n",
              "       'Eindhoven University of Technology (TU/e)',\n",
              "       'United Nations University International Institute for Software Technology (UNU-IIST)',\n",
              "       'Georgetown University,DC', 'RWTH Aachen University',\n",
              "       'Columbia University',\n",
              "       'Rutgers State University of New Jersey, NJ',\n",
              "       'University of Florida', 'Technical University of Braunschweig',\n",
              "       'Carnegie Mellon University, Pittsburgh',\n",
              "       'The Ohio State University', 'National University of Singapore',\n",
              "       'University of British Columbia', 'University of Pittsburgh',\n",
              "       'The State University of New Jersey',\n",
              "       'The University of Texas at Austin',\n",
              "       'Imperial College, University of London',\n",
              "       'University of Colorado�', 'University of Bath',\n",
              "       'Tilburg University', 'Pompeu Fabra University Barcelona',\n",
              "       'University of Management and Technology',\n",
              "       'COMSATS Institute of Information Technology,Lahore',\n",
              "       'University of Agriculture, Faisalabad�',\n",
              "       'University of Engineering & Technology',\n",
              "       'University of Agriculture, Faisalabad',\n",
              "       'Fatima Jinnah Women University, Rawalpindi',\n",
              "       'Kohat University of Science & Technology, Kohat',\n",
              "       'Virtual University of Pakistan', 'Bahauddin Zakariya University',\n",
              "       'University of the Punjab,Gujranwala',\n",
              "       'Lahore College for Women University',\n",
              "       'Superior University, Lahore',\n",
              "       'Shaheed Zulfikar Ali Bhutto Institute of Science and Technology,Islamabad',\n",
              "       'University of South Florida', 'Politecnico di Milano',\n",
              "       'Abdul Wali Khan University, Mardan', 'University of Lahore',\n",
              "       'Minhaj University Lahore', 'Lahore Leads University',\n",
              "       'Middlesex University', 'Beijing Institute of Technology Beijing',\n",
              "       'Beaconhouse National University', 'Hamdard University',\n",
              "       'University Paris', 'Sindh University',\n",
              "       'NED University of Engineering And Technology',\n",
              "       'Staffordshire University', 'DePaul University, Chicago',\n",
              "       'University of Kent',\n",
              "       'Mehran University of Engineering & Technology',\n",
              "       'Quaid-e-Awam University of Engineering, Science & Technology',\n",
              "       'Shah Abdul Latif University, Khairpur',\n",
              "       'Sindh Agriculture University', 'Swansea',\n",
              "       'University of Shanghai for Science and Technology',\n",
              "       'Griffith University,Nathan Campus', 'University of Essex',\n",
              "       'Xiamen university', 'Wayne State University',\n",
              "       'The Queens University of Belfast', 'Sungkyunkwan University',\n",
              "       'Nanyang Tech University', \"Universite d'Evry Val d'Essonne\",\n",
              "       'Sir Syed University of Engineering and Technology',\n",
              "       'New York Institute of Technology', 'Fedral Urdu University',\n",
              "       'ISRA University', 'University of Karachi',\n",
              "       'South Asian University',\n",
              "       'Capital University of Science and Technology',\n",
              "       'University of Manchester Institute of Science and Technology',\n",
              "       'The University of Birmingham',\n",
              "       'Max Planck Institute for Computer Science',\n",
              "       'George Mason University', 'University of Southampton',\n",
              "       'Temple University', 'University of Bayreuth',\n",
              "       'Muroran Institute of Technology,Hokkaido',\n",
              "       'University of Bologna', 'International Islamic University',\n",
              "       'PAF-Karachi Institute of Economics and Technology',\n",
              "       'Institute of Business Administration,Sukkur',\n",
              "       'Myongji University', 'State University of New York System',\n",
              "       'SSindh Agriculture University', 'London University',\n",
              "       'Universiti Putra Malaysia Putra',\n",
              "       'University of Rome Tor Vergata', 'University of Mississippi�',\n",
              "       'University of Wales', 'University of Northampton',\n",
              "       'University of Abertay Dundee',\n",
              "       'Biztek Institute Of Business & Technology,Karachi',\n",
              "       'University of Surrey', 'Jinnah University for Women',\n",
              "       '�Nanyang Technological University',\n",
              "       'Tokyo Institute of Technology', 'NCSU',\n",
              "       'Usman Institute of Technology', 'Hanyang University, Ansan',\n",
              "       'BUKC', 'Universtiy of Karachi', 'Pace University, New York',\n",
              "       'INSA de Lyon, Rhone', 'University of Dundee',\n",
              "       'Illinois Institute of Technology',\n",
              "       'City University of Science and Technology',\n",
              "       'Usman Institute of Technology (Hamdard University)',\n",
              "       'University of Malaga', 'Manchester Metropolitan University',\n",
              "       'Kyushu University,Fukuoka',\n",
              "       'King Abdullah University of Science and Technology',\n",
              "       'INRIA Saclay Ile-de-France', 'Universit� de la Rochelle',\n",
              "       'University of South Brittany', 'Aston University, Birmingham',\n",
              "       'University of Agriculture Faisalabad',\n",
              "       'Hamburg University of Technology',\n",
              "       'Government College University, Faisalabad', 'JKU',\n",
              "       'University of Oviedo',\n",
              "       'Beijing University of Posts & Telecommunications',\n",
              "       'Government College University,Faisalabad',\n",
              "       'Nottingham Trent University', 'University of Glasgow',\n",
              "       'Coventry University',\n",
              "       'Riphah International University,Faisalabad',\n",
              "       'Australian National University, Caneberra',\n",
              "       'Swedish University of Agricultural Sciences, Uppsala',\n",
              "       'University of Gujrat', 'IQRA University,Islamabad',\n",
              "       'Jonkoping University', 'Colorado Technical University',\n",
              "       'Cranfield University', 'Technical University of Graz',\n",
              "       'University of York', 'Brock University Canada',\n",
              "       'University of Westminster', 'University of Saarland',\n",
              "       'The University of Queensland', 'University of Rochester',\n",
              "       'Islamia College University ',\n",
              "       'IBMS KP Agricultural University Peshawar',\n",
              "       'University of Kuala Lumpur', 'University of Regina', 'TU Wien',\n",
              "       'Swinburne University Of Technology',\n",
              "       'Institute Of Managment Sciences, Peshawar',\n",
              "       'Universiti Tun Hussein Onn Malaysia',\n",
              "       'Institute of Management Sciences, Peshawar',\n",
              "       'University of Huddersfield',\n",
              "       'University of Engineering and Technology,Peshawar',\n",
              "       'IQRA University,Karachi', 'John Moorse University, Liverpool',\n",
              "       'CECOS University of Information Technology and Emerging Sciences,Peshawar',\n",
              "       'University of the West Scotland', 'Concordia University,Montreal',\n",
              "       'JNU', 'Grenoble', 'Florida Atlantic University',\n",
              "       'Seoul National University'], dtype=object)"
            ]
          },
          "metadata": {
            "tags": []
          },
          "execution_count": 10
        }
      ]
    },
    {
      "cell_type": "code",
      "metadata": {
        "colab": {
          "base_uri": "https://localhost:8080/"
        },
        "id": "8Ft9nCHU2Uxo",
        "outputId": "2be34abd-c6bb-4796-efcf-8625e33aa6e7"
      },
      "source": [
        "country_count=data[\"Country\"].value_counts()\n",
        "print(country_count)\n",
        "# (country_count).sum()"
      ],
      "execution_count": null,
      "outputs": [
        {
          "output_type": "stream",
          "text": [
            "Pakistan              794\n",
            "UK                    103\n",
            "USA                    54\n",
            "Malaysia               28\n",
            "France                 27\n",
            "Austria                24\n",
            "Germany                22\n",
            "China                  21\n",
            "Sweden                 18\n",
            "Italy                  18\n",
            "South Korea            15\n",
            "Thailand               13\n",
            "Australia              10\n",
            "Netherland              8\n",
            "Canada                  7\n",
            "Ireland                 4\n",
            "Singapore               3\n",
            " USA                    3\n",
            "Japan                   3\n",
            "Spain                   3\n",
            "Norway                  3\n",
            "Portugal                2\n",
            "Denmark                 2\n",
            " Germany                2\n",
            "Mauritius               1\n",
            "Finland                 1\n",
            "HongKong                1\n",
            "Turkey                  1\n",
            " Sweden                 1\n",
            "Macau                   1\n",
            "Scotland                1\n",
            "Greece                  1\n",
            "New Zealand             1\n",
            "Urbana                  1\n",
            " New Zealand            1\n",
            "Russian Federation      1\n",
            "Saudi Arabia            1\n",
            "Name: Country, dtype: int64\n"
          ],
          "name": "stdout"
        }
      ]
    },
    {
      "cell_type": "code",
      "metadata": {
        "colab": {
          "base_uri": "https://localhost:8080/"
        },
        "id": "gIc3X7tW0nVA",
        "outputId": "6a2185be-c1d0-474b-b4a5-c5c8c6986b7d"
      },
      "source": [
        "data[\"University Currently Teaching\"].value_counts()"
      ],
      "execution_count": null,
      "outputs": [
        {
          "output_type": "execute_result",
          "data": {
            "text/plain": [
              "COMSATS, Islamabad Campus                                                                117\n",
              "Sir Syed University of Engineering and Technology                                         81\n",
              "University of Lahore-PakPattan                                                            71\n",
              "Virtual University                                                                        68\n",
              "Balochistan University of Information Technology, Engineering and Management Sciences     68\n",
              "                                                                                        ... \n",
              "University of Sargodha,Bhakkar Campus                                                      3\n",
              "Islamia College Gujranwala                                                                 2\n",
              "UET-RASUL                                                                                  2\n",
              "Pir Mehr Ali Shah Arid Agriculture University                                              2\n",
              "University of Sahiwal                                                                      1\n",
              "Name: University Currently Teaching, Length: 88, dtype: int64"
            ]
          },
          "metadata": {
            "tags": []
          },
          "execution_count": 12
        }
      ]
    },
    {
      "cell_type": "code",
      "metadata": {
        "colab": {
          "base_uri": "https://localhost:8080/",
          "height": 476
        },
        "id": "oGJDnDJf0MGU",
        "outputId": "68bac7d9-1d0b-4ac8-ef42-de472f37c1f2"
      },
      "source": [
        "sns.heatmap(data.isnull(),yticklabels=False,cbar=False,cmap='viridis')"
      ],
      "execution_count": null,
      "outputs": [
        {
          "output_type": "execute_result",
          "data": {
            "text/plain": [
              "<matplotlib.axes._subplots.AxesSubplot at 0x7f52c593aa90>"
            ]
          },
          "metadata": {
            "tags": []
          },
          "execution_count": 13
        },
        {
          "output_type": "display_data",
          "data": {
            "image/png": "[encoded data removed]",
            "text/plain": [
              "<Figure size 432x288 with 1 Axes>"
            ]
          },
          "metadata": {
            "tags": [],
            "needs_background": "light"
          }
        }
      ]
    },
    {
      "cell_type": "code",
      "metadata": {
        "colab": {
          "base_uri": "https://localhost:8080/"
        },
        "id": "mVxRURgM0R5H",
        "outputId": "f926d542-b945-4bd1-caae-1c9451112c91"
      },
      "source": [
        "(data[\"Country\"].isnull()).sum()"
      ],
      "execution_count": null,
      "outputs": [
        {
          "output_type": "execute_result",
          "data": {
            "text/plain": [
              "781"
            ]
          },
          "metadata": {
            "tags": []
          },
          "execution_count": 14
        }
      ]
    },
    {
      "cell_type": "code",
      "metadata": {
        "id": "JbdOWkbF31-b"
      },
      "source": [
        "usagrad=data.loc[data['Country'] == 'USA']\n",
        "ukgrad=data.loc[data['Country'] == 'UK']"
      ],
      "execution_count": null,
      "outputs": []
    },
    {
      "cell_type": "code",
      "metadata": {
        "colab": {
          "base_uri": "https://localhost:8080/",
          "height": 450
        },
        "id": "Tq7DBbhd4126",
        "outputId": "989bdc45-26c4-454b-eddf-7dda50a0cfa2"
      },
      "source": [
        "usagrad.head()"
      ],
      "execution_count": null,
      "outputs": [
        {
          "output_type": "execute_result",
          "data": {
            "text/html": [
              "<div>\n",
              "<style scoped>\n",
              "    .dataframe tbody tr th:only-of-type {\n",
              "        vertical-align: middle;\n",
              "    }\n",
              "\n",
              "    .dataframe tbody tr th {\n",
              "        vertical-align: top;\n",
              "    }\n",
              "\n",
              "    .dataframe thead th {\n",
              "        text-align: right;\n",
              "    }\n",
              "</style>\n",
              "<table border=\"1\" class=\"dataframe\">\n",
              "  <thead>\n",
              "    <tr style=\"text-align: right;\">\n",
              "      <th></th>\n",
              "      <th>S#</th>\n",
              "      <th>Teacher Name</th>\n",
              "      <th>University Currently Teaching</th>\n",
              "      <th>Department</th>\n",
              "      <th>Province University Located</th>\n",
              "      <th>Designation</th>\n",
              "      <th>Terminal Degree</th>\n",
              "      <th>Graduated from</th>\n",
              "      <th>Country</th>\n",
              "      <th>Year</th>\n",
              "      <th>Area of Specialization/Research Interests</th>\n",
              "      <th>Other Information</th>\n",
              "    </tr>\n",
              "  </thead>\n",
              "  <tbody>\n",
              "    <tr>\n",
              "      <th>135</th>\n",
              "      <td>136</td>\n",
              "      <td>Saif Ur Rehman Malik</td>\n",
              "      <td>COMSATS, Islamabad Campus</td>\n",
              "      <td>Computer Science</td>\n",
              "      <td>Capital</td>\n",
              "      <td>Assistant Professor</td>\n",
              "      <td>Phd</td>\n",
              "      <td>North Dakota State University</td>\n",
              "      <td>USA</td>\n",
              "      <td>NaN</td>\n",
              "      <td>�Formal Methods (verification, modeling, and a...</td>\n",
              "      <td>NaN</td>\n",
              "    </tr>\n",
              "    <tr>\n",
              "      <th>149</th>\n",
              "      <td>150</td>\n",
              "      <td>Assad Abbas</td>\n",
              "      <td>COMSATS, Islamabad Campus</td>\n",
              "      <td>Computer Science</td>\n",
              "      <td>Capital</td>\n",
              "      <td>Assistant Professor</td>\n",
              "      <td>PhD</td>\n",
              "      <td>North Dakota State University</td>\n",
              "      <td>USA</td>\n",
              "      <td>2016.0</td>\n",
              "      <td>Smart Health, Big Data Analytics, Recommendati...</td>\n",
              "      <td>NaN</td>\n",
              "    </tr>\n",
              "    <tr>\n",
              "      <th>233</th>\n",
              "      <td>234</td>\n",
              "      <td>Muazzam A Khan Khattak</td>\n",
              "      <td>National University of Sciences and Technology</td>\n",
              "      <td>Computing</td>\n",
              "      <td>Capital</td>\n",
              "      <td>Assistant Professor</td>\n",
              "      <td>PhD</td>\n",
              "      <td>�University of Missouri, KC</td>\n",
              "      <td>USA</td>\n",
              "      <td>2016.0</td>\n",
              "      <td>Wireless Sensor Networks, IOT, Image Encryptio...</td>\n",
              "      <td>NaN</td>\n",
              "    </tr>\n",
              "    <tr>\n",
              "      <th>253</th>\n",
              "      <td>254</td>\n",
              "      <td>Muhammad Saud Khan</td>\n",
              "      <td>RIPHAH International</td>\n",
              "      <td>Computing</td>\n",
              "      <td>Capital</td>\n",
              "      <td>Assistant Professor</td>\n",
              "      <td>MS</td>\n",
              "      <td>University of Central Missouri</td>\n",
              "      <td>USA</td>\n",
              "      <td>1997.0</td>\n",
              "      <td>Software Engineering Practices, Web Developmen...</td>\n",
              "      <td>PhD in progress</td>\n",
              "    </tr>\n",
              "    <tr>\n",
              "      <th>272</th>\n",
              "      <td>273</td>\n",
              "      <td>Hammad Naveed</td>\n",
              "      <td>FAST-NU(Islamabad)</td>\n",
              "      <td>Computer Science</td>\n",
              "      <td>Capital</td>\n",
              "      <td>Associate Professor</td>\n",
              "      <td>PhD</td>\n",
              "      <td>University of Illinois</td>\n",
              "      <td>USA</td>\n",
              "      <td>2012.0</td>\n",
              "      <td>Computational Structural Biology. He is partic...</td>\n",
              "      <td>NaN</td>\n",
              "    </tr>\n",
              "  </tbody>\n",
              "</table>\n",
              "</div>"
            ],
            "text/plain": [
              "      S#  ... Other Information\n",
              "135  136  ...               NaN\n",
              "149  150  ...               NaN\n",
              "233  234  ...               NaN\n",
              "253  254  ...  PhD in progress \n",
              "272  273  ...               NaN\n",
              "\n",
              "[5 rows x 12 columns]"
            ]
          },
          "metadata": {
            "tags": []
          },
          "execution_count": 16
        }
      ]
    },
    {
      "cell_type": "code",
      "metadata": {
        "colab": {
          "base_uri": "https://localhost:8080/"
        },
        "id": "g-UkMYFqm7Ui",
        "outputId": "9dab842d-4328-4b92-f003-3484fd36e528"
      },
      "source": [
        "usagrad[\"Department\"].describe()"
      ],
      "execution_count": null,
      "outputs": [
        {
          "output_type": "execute_result",
          "data": {
            "text/plain": [
              "count                   54\n",
              "unique                   9\n",
              "top       Computer Science\n",
              "freq                    38\n",
              "Name: Department, dtype: object"
            ]
          },
          "metadata": {
            "tags": []
          },
          "execution_count": 17
        }
      ]
    },
    {
      "cell_type": "code",
      "metadata": {
        "colab": {
          "base_uri": "https://localhost:8080/"
        },
        "id": "CLxctPFn5jEk",
        "outputId": "c9cfb5f2-a3eb-494d-ec7a-9a581806a735"
      },
      "source": [
        "usagrad.count()"
      ],
      "execution_count": null,
      "outputs": [
        {
          "output_type": "execute_result",
          "data": {
            "text/plain": [
              "S#                                           54\n",
              "Teacher Name                                 54\n",
              "University Currently Teaching                54\n",
              "Department                                   54\n",
              "Province University Located                  54\n",
              "Designation                                  51\n",
              "Terminal Degree                              54\n",
              "Graduated from                               52\n",
              "Country                                      54\n",
              "Year                                         34\n",
              "Area of Specialization/Research Interests    33\n",
              "Other Information                             2\n",
              "dtype: int64"
            ]
          },
          "metadata": {
            "tags": []
          },
          "execution_count": 18
        }
      ]
    },
    {
      "cell_type": "code",
      "metadata": {
        "colab": {
          "base_uri": "https://localhost:8080/"
        },
        "id": "rdQ01bW1rnSQ",
        "outputId": "140d5f81-dc63-4cde-adeb-78455e472a0b"
      },
      "source": [
        "ukgrad[\"University Currently Teaching\"].describe()"
      ],
      "execution_count": null,
      "outputs": [
        {
          "output_type": "execute_result",
          "data": {
            "text/plain": [
              "count                     103\n",
              "unique                     40\n",
              "top       University of Sindh\n",
              "freq                        9\n",
              "Name: University Currently Teaching, dtype: object"
            ]
          },
          "metadata": {
            "tags": []
          },
          "execution_count": 19
        }
      ]
    },
    {
      "cell_type": "code",
      "metadata": {
        "colab": {
          "base_uri": "https://localhost:8080/"
        },
        "id": "vEsBn9ZBsfzl",
        "outputId": "6836f74d-c3c4-42d6-cd9e-dfb459ea3db2"
      },
      "source": [
        "ukgrad[\"Graduated from\"].describe()"
      ],
      "execution_count": null,
      "outputs": [
        {
          "output_type": "execute_result",
          "data": {
            "text/plain": [
              "count                          92\n",
              "unique                         58\n",
              "top       University of Leicester\n",
              "freq                            6\n",
              "Name: Graduated from, dtype: object"
            ]
          },
          "metadata": {
            "tags": []
          },
          "execution_count": 20
        }
      ]
    },
    {
      "cell_type": "code",
      "metadata": {
        "colab": {
          "base_uri": "https://localhost:8080/"
        },
        "id": "ZF3fukDErgmi",
        "outputId": "3b9cd498-2af8-429c-b42e-f8cee87ab9b9"
      },
      "source": [
        "usagrad[\"University Currently Teaching\"].describe()"
      ],
      "execution_count": null,
      "outputs": [
        {
          "output_type": "execute_result",
          "data": {
            "text/plain": [
              "count                                    54\n",
              "unique                                   25\n",
              "top       Information Technology University\n",
              "freq                                      7\n",
              "Name: University Currently Teaching, dtype: object"
            ]
          },
          "metadata": {
            "tags": []
          },
          "execution_count": 21
        }
      ]
    },
    {
      "cell_type": "code",
      "metadata": {
        "colab": {
          "base_uri": "https://localhost:8080/"
        },
        "id": "e2OgrGmYsJqs",
        "outputId": "64f4f501-df30-48ff-d126-f32860f824fa"
      },
      "source": [
        "data[\"University Currently Teaching\"].describe()"
      ],
      "execution_count": null,
      "outputs": [
        {
          "output_type": "execute_result",
          "data": {
            "text/plain": [
              "count                          1981\n",
              "unique                           88\n",
              "top       COMSATS, Islamabad Campus\n",
              "freq                            117\n",
              "Name: University Currently Teaching, dtype: object"
            ]
          },
          "metadata": {
            "tags": []
          },
          "execution_count": 22
        }
      ]
    },
    {
      "cell_type": "code",
      "metadata": {
        "colab": {
          "base_uri": "https://localhost:8080/"
        },
        "id": "aYe6qeum49gO",
        "outputId": "810e0b71-0310-48bc-923b-4d798207f829"
      },
      "source": [
        "usagrad[\"University Currently Teaching\"].value_counts()"
      ],
      "execution_count": null,
      "outputs": [
        {
          "output_type": "execute_result",
          "data": {
            "text/plain": [
              "Information Technology University                                  7\n",
              "Lahore University of Management Sciences                           6\n",
              "FAST(Lahore)                                                       5\n",
              "University of Central Punjab                                       4\n",
              "Institute of Business Administration, Karachi�                     4\n",
              "Punjab University College of Information and Technology            3\n",
              "FAST(Karachi)                                                      2\n",
              "Mohammad Ali Jinnah University                                     2\n",
              "Shaheed Zulfikar Ali Bhutto Institute of Science and Technology    2\n",
              "COMSATS, Islamabad Campus                                          2\n",
              "ISRA University                                                    2\n",
              "Sir Syed University of Engineering and Technology                  2\n",
              "University of Engineering and Technology,Jalozai Campus            1\n",
              "University of Agriculture,Peshawar                                 1\n",
              "Ghulam Ishaq Khan Institute                                        1\n",
              "RIPHAH International                                               1\n",
              "PAF-Karachi Institute of Economics and Technology                  1\n",
              "Gift University                                                    1\n",
              "FAST-NU(Islamabad)                                                 1\n",
              "University of Peshawar                                             1\n",
              "University of Management and Technology                            1\n",
              "National University of Sciences and Technology                     1\n",
              "Pakistan Institute of Engineering and Applied Sciences             1\n",
              "Bahria University,Islamabad                                        1\n",
              "NAML-Mianwali                                                      1\n",
              "Name: University Currently Teaching, dtype: int64"
            ]
          },
          "metadata": {
            "tags": []
          },
          "execution_count": 23
        }
      ]
    },
    {
      "cell_type": "code",
      "metadata": {
        "colab": {
          "base_uri": "https://localhost:8080/"
        },
        "id": "NbBas0u85ZJL",
        "outputId": "4affdc19-19e6-40cd-c737-f386568cbbc7"
      },
      "source": [
        "ukgrad[\"University Currently Teaching\"].value_counts()"
      ],
      "execution_count": null,
      "outputs": [
        {
          "output_type": "execute_result",
          "data": {
            "text/plain": [
              "University of Sindh                                                9\n",
              "University of Peshawar                                             8\n",
              "NED,UET                                                            7\n",
              "Bahria University,Islamabad                                        6\n",
              "Air University                                                     5\n",
              "COMSATS, Islamabad Campus                                          5\n",
              "Islamia University Bhawalpur                                       4\n",
              "Sir Syed University of Engineering and Technology                  4\n",
              "Shaheed Zulfikar Ali Bhutto Institute of Science and Technology    4\n",
              "Lahore University of Management Sciences                           3\n",
              "FAST-NU(Islamabad)                                                 3\n",
              "Pakistan Institute of Engineering and Applied Sciences             3\n",
              "Riphah University,Faisalabad                                       3\n",
              "Abasyn University                                                  3\n",
              "Lahore Garrison University                                         2\n",
              "National University of Sciences and Technology                     2\n",
              "University of Karachi                                              2\n",
              "FAST(Karachi)                                                      2\n",
              "University of Central Punjab                                       2\n",
              "RIPHAH International                                               2\n",
              "FAST(Lahore)                                                       2\n",
              "University of Engineering and Technology,Peshawar                  2\n",
              "Capital University of Science and Technology                       2\n",
              "Institute of Business Administration, Karachi�                     2\n",
              "Shah Abdul Latif University, Khairpur                              1\n",
              "Habib University                                                   1\n",
              "City University                                                    1\n",
              "ISRA University                                                    1\n",
              "Punjab University College of Information and Technology            1\n",
              "Mohammad Ali Jinnah University                                     1\n",
              "Beaconhouse National University                                    1\n",
              "NAML-Mianwali                                                      1\n",
              "University of Sahiwal                                              1\n",
              "Minhaj University Lahore                                           1\n",
              "University of Engineering and Technology,Jalozai Campus            1\n",
              "Ghulam Ishaq Khan Institute                                        1\n",
              "Barani Institute of Information and Technology                     1\n",
              "Fatima Jinnah Women University                                     1\n",
              "FAST(Faisalabad)                                                   1\n",
              "Jinnah University for Women                                        1\n",
              "Name: University Currently Teaching, dtype: int64"
            ]
          },
          "metadata": {
            "tags": []
          },
          "execution_count": 24
        }
      ]
    },
    {
      "cell_type": "code",
      "metadata": {
        "colab": {
          "base_uri": "https://localhost:8080/"
        },
        "id": "IqIio1uj5zDF",
        "outputId": "345ff3f9-889f-404d-9fc2-595506a8a450"
      },
      "source": [
        "usagrad[\"Province University Located\"].value_counts()"
      ],
      "execution_count": null,
      "outputs": [
        {
          "output_type": "execute_result",
          "data": {
            "text/plain": [
              "Punjab     28\n",
              "Sindh      15\n",
              "Capital     7\n",
              "KPK         4\n",
              "Name: Province University Located, dtype: int64"
            ]
          },
          "metadata": {
            "tags": []
          },
          "execution_count": 25
        }
      ]
    },
    {
      "cell_type": "code",
      "metadata": {
        "colab": {
          "base_uri": "https://localhost:8080/"
        },
        "id": "zGTdvHK4K8Eq",
        "outputId": "1ccb64ec-5bb6-43d0-86d3-552db5f38f47"
      },
      "source": [
        "(usagrad[\"Terminal Degree\"]==\"PhD\").sum()"
      ],
      "execution_count": null,
      "outputs": [
        {
          "output_type": "execute_result",
          "data": {
            "text/plain": [
              "35"
            ]
          },
          "metadata": {
            "tags": []
          },
          "execution_count": 26
        }
      ]
    },
    {
      "cell_type": "code",
      "metadata": {
        "colab": {
          "base_uri": "https://localhost:8080/"
        },
        "id": "fJ1bfKNq59l5",
        "outputId": "1860dc83-a696-4e32-c34a-71a01659659c"
      },
      "source": [
        "ukgrad[\"Province University Located\"].value_counts()"
      ],
      "execution_count": null,
      "outputs": [
        {
          "output_type": "execute_result",
          "data": {
            "text/plain": [
              "Sindh      35\n",
              "Capital    28\n",
              "Punjab     24\n",
              "KPK        16\n",
              "Name: Province University Located, dtype: int64"
            ]
          },
          "metadata": {
            "tags": []
          },
          "execution_count": 27
        }
      ]
    },
    {
      "cell_type": "code",
      "metadata": {
        "colab": {
          "base_uri": "https://localhost:8080/"
        },
        "id": "VU-BB5Ol6Bfe",
        "outputId": "87193107-4be9-4e11-fc42-08b36296af6e"
      },
      "source": [
        "# usagrad[\"Teacher Name\"].map(lambda desc: \"Basit\" in desc)\n",
        "faisal=data[\"Teacher Name\"].map(lambda desc: \"Faisal\" in desc)\n",
        "ubaid=data[\"Teacher Name\"].map(lambda desc: \"Ubaid\" in desc)\n",
        "descriptor_counts = pd.Series([faisal.sum(), ubaid.sum()], index=['faisal', 'ubaid'])\n",
        "print(descriptor_counts)"
      ],
      "execution_count": null,
      "outputs": [
        {
          "output_type": "stream",
          "text": [
            "faisal    14\n",
            "ubaid      2\n",
            "dtype: int64\n"
          ],
          "name": "stdout"
        }
      ]
    },
    {
      "cell_type": "code",
      "metadata": {
        "id": "5b8oe8gD7H6B",
        "colab": {
          "base_uri": "https://localhost:8080/",
          "height": 830
        },
        "outputId": "441651f8-3e52-4a7c-811c-2b56b0a1b5e3"
      },
      "source": [
        "data[\"University Currently Teaching\"].value_counts().plot(kind='bar',figsize=(14,6))"
      ],
      "execution_count": null,
      "outputs": [
        {
          "output_type": "execute_result",
          "data": {
            "text/plain": [
              "<matplotlib.axes._subplots.AxesSubplot at 0x7f52c59b14d0>"
            ]
          },
          "metadata": {
            "tags": []
          },
          "execution_count": 29
        },
        {
          "output_type": "display_data",
          "data": {
            "image/png": "[encoded data removed]",
            "text/plain": [
              "<Figure size 1008x432 with 1 Axes>"
            ]
          },
          "metadata": {
            "tags": [],
            "needs_background": "light"
          }
        }
      ]
    },
    {
      "cell_type": "code",
      "metadata": {
        "id": "igL46_79CrzD",
        "colab": {
          "base_uri": "https://localhost:8080/",
          "height": 700
        },
        "outputId": "e939a78a-6bbb-4de2-8c7e-0faf2dc1c28f"
      },
      "source": [
        "usagrad[\"University Currently Teaching\"].value_counts().plot(kind='bar',figsize=(14,6))"
      ],
      "execution_count": null,
      "outputs": [
        {
          "output_type": "execute_result",
          "data": {
            "text/plain": [
              "<matplotlib.axes._subplots.AxesSubplot at 0x7f52b9dc0c10>"
            ]
          },
          "metadata": {
            "tags": []
          },
          "execution_count": 30
        },
        {
          "output_type": "display_data",
          "data": {
            "image/png": "[encoded data removed]",
            "text/plain": [
              "<Figure size 1008x432 with 1 Axes>"
            ]
          },
          "metadata": {
            "tags": [],
            "needs_background": "light"
          }
        }
      ]
    },
    {
      "cell_type": "code",
      "metadata": {
        "colab": {
          "base_uri": "https://localhost:8080/",
          "height": 107
        },
        "id": "uVnU8Op3wkBa",
        "outputId": "7aaf496c-5e7b-419e-cc7c-9bdd672bc813"
      },
      "source": [
        "corr=data.corr()\n",
        "corr"
      ],
      "execution_count": null,
      "outputs": [
        {
          "output_type": "execute_result",
          "data": {
            "text/html": [
              "<div>\n",
              "<style scoped>\n",
              "    .dataframe tbody tr th:only-of-type {\n",
              "        vertical-align: middle;\n",
              "    }\n",
              "\n",
              "    .dataframe tbody tr th {\n",
              "        vertical-align: top;\n",
              "    }\n",
              "\n",
              "    .dataframe thead th {\n",
              "        text-align: right;\n",
              "    }\n",
              "</style>\n",
              "<table border=\"1\" class=\"dataframe\">\n",
              "  <thead>\n",
              "    <tr style=\"text-align: right;\">\n",
              "      <th></th>\n",
              "      <th>S#</th>\n",
              "      <th>Year</th>\n",
              "    </tr>\n",
              "  </thead>\n",
              "  <tbody>\n",
              "    <tr>\n",
              "      <th>S#</th>\n",
              "      <td>1.000000</td>\n",
              "      <td>-0.059491</td>\n",
              "    </tr>\n",
              "    <tr>\n",
              "      <th>Year</th>\n",
              "      <td>-0.059491</td>\n",
              "      <td>1.000000</td>\n",
              "    </tr>\n",
              "  </tbody>\n",
              "</table>\n",
              "</div>"
            ],
            "text/plain": [
              "            S#      Year\n",
              "S#    1.000000 -0.059491\n",
              "Year -0.059491  1.000000"
            ]
          },
          "metadata": {
            "tags": []
          },
          "execution_count": 31
        }
      ]
    },
    {
      "cell_type": "code",
      "metadata": {
        "id": "XCkW6cIUw-UG"
      },
      "source": [
        ""
      ],
      "execution_count": null,
      "outputs": []
    },
    {
      "cell_type": "code",
      "metadata": {
        "id": "cYHUcA-n2w6o"
      },
      "source": [
        ""
      ],
      "execution_count": null,
      "outputs": []
    },
    {
      "cell_type": "code",
      "metadata": {
        "id": "rrTRB9dc23V6"
      },
      "source": [
        ""
      ],
      "execution_count": null,
      "outputs": []
    }
  ]
}