{
 "cells": [
  {
   "cell_type": "code",
   "execution_count": 1,
   "metadata": {},
   "outputs": [],
   "source": [
    "import numpy as np\n",
    "import pandas as pd\n",
    "import matplotlib.pyplot as plt\n",
    "import seaborn as sns"
   ]
  },
  {
   "cell_type": "code",
   "execution_count": 2,
   "metadata": {},
   "outputs": [],
   "source": [
    "data=pd.read_csv(\"pakistanIntellectual.csv\",engine='python')"
   ]
  },
  {
   "cell_type": "code",
   "execution_count": 3,
   "metadata": {},
   "outputs": [
    {
     "data": {
      "text/plain": [
       "Lecturer                               783\n",
       "Assistant Professor                    705\n",
       "Associate Professor                    128\n",
       "NaN                                     63\n",
       "Professor                               46\n",
       "                                      ... \n",
       "I.T Manager                              1\n",
       "Controller of Examinations               1\n",
       "Associate Professor/Chair                1\n",
       "Vice President/Dean                      1\n",
       "Professor/Associate Dean (Research)      1\n",
       "Name: Designation, Length: 64, dtype: int64"
      ]
     },
     "execution_count": 3,
     "metadata": {},
     "output_type": "execute_result"
    }
   ],
   "source": [
    "data['Designation'].value_counts(dropna=False)"
   ]
  },
  {
   "cell_type": "code",
   "execution_count": 4,
   "metadata": {},
   "outputs": [],
   "source": [
    "uni=data['Graduated from'].value_counts(dropna=False)"
   ]
  },
  {
   "cell_type": "code",
   "execution_count": 5,
   "metadata": {},
   "outputs": [],
   "source": [
    "train_test_data=[data]\n",
    "for dataset in train_test_data:\n",
    "  dataset['degree_title']=dataset['Terminal Degree'].str.extract('([A-Za-z]+)',expand=False)"
   ]
  },
  {
   "cell_type": "code",
   "execution_count": 6,
   "metadata": {},
   "outputs": [],
   "source": [
    "phd_foreign=data.loc[(data['degree_title']=='PhD') & (data['Country']!='Pakistan')]\n",
    "phd_pak=data.loc[(data['degree_title']=='PhD') & (data['Country']=='Pakistan')]\n",
    "phd_usa=data.loc[(data['degree_title']=='PhD') & (data['Country']=='USA')]\n",
    "phd_uk=data.loc[(data['degree_title']=='PhD') & (data['Country']=='UK')]\n",
    "comsats_data=data.loc[(data['University Currently Teaching']=='COMSATS, Islamabad Campus') &(data['Country']!='Pakistan')]"
   ]
  },
  {
   "cell_type": "code",
   "execution_count": 7,
   "metadata": {},
   "outputs": [],
   "source": [
    "phd_new=phd_foreign['Country'].dropna()"
   ]
  },
  {
   "cell_type": "code",
   "execution_count": 8,
   "metadata": {},
   "outputs": [],
   "source": [
    "phd_123= phd_foreign[phd_foreign['Country'].notna()]"
   ]
  },
  {
   "cell_type": "code",
   "execution_count": 9,
   "metadata": {},
   "outputs": [],
   "source": [
    "phd_foreign_country=phd_123['Country'].value_counts()"
   ]
  },
  {
   "cell_type": "code",
   "execution_count": 10,
   "metadata": {},
   "outputs": [
    {
     "data": {
      "text/plain": [
       "Punjab         88\n",
       "Capital        79\n",
       "Sindh          79\n",
       "KPK            39\n",
       "Balochistan     8\n",
       "Name: Province University Located, dtype: int64"
      ]
     },
     "execution_count": 10,
     "metadata": {},
     "output_type": "execute_result"
    }
   ],
   "source": [
    "phd_123['Province University Located'].value_counts()"
   ]
  },
  {
   "cell_type": "code",
   "execution_count": 11,
   "metadata": {},
   "outputs": [],
   "source": [
    "# phd_123.to_csv(r'phd_foreign.csv')"
   ]
  },
  {
   "cell_type": "code",
   "execution_count": 12,
   "metadata": {},
   "outputs": [
    {
     "data": {
      "text/plain": [
       "Punjab         50\n",
       "Sindh          27\n",
       "Capital        21\n",
       "KPK             4\n",
       "Balochistan     1\n",
       "Name: Province University Located, dtype: int64"
      ]
     },
     "execution_count": 12,
     "metadata": {},
     "output_type": "execute_result"
    }
   ],
   "source": [
    "phd_pak['Province University Located'].value_counts()"
   ]
  },
  {
   "cell_type": "code",
   "execution_count": 16,
   "metadata": {},
   "outputs": [
    {
     "data": {
      "text/plain": [
       "<pandas.core.groupby.generic.DataFrameGroupBy object at 0x000001ECD4F4BD30>"
      ]
     },
     "execution_count": 16,
     "metadata": {},
     "output_type": "execute_result"
    }
   ],
   "source": [
    "data[['Province University Located','Country']].groupby(['Country'],as_index=False)"
   ]
  },
  {
   "cell_type": "code",
   "execution_count": null,
   "metadata": {},
   "outputs": [],
   "source": []
  }
 ],
 "metadata": {
  "interpreter": {
   "hash": "86987c614a608662b12694ccf05f899e554dc0d9a6c24d382fe9ced929a6ca9f"
  },
  "kernelspec": {
   "display_name": "Python 3.8.8 64-bit ('base': conda)",
   "name": "python3"
  },
  "language_info": {
   "name": "python",
   "version": ""
  },
  "orig_nbformat": 2
 },
 "nbformat": 4,
 "nbformat_minor": 2
}